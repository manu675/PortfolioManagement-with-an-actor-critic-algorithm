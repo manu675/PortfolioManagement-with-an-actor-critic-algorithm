{
  "nbformat": 4,
  "nbformat_minor": 0,
  "metadata": {
    "colab": {
      "provenance": [],
      "toc_visible": true
    },
    "kernelspec": {
      "name": "python3",
      "display_name": "Python 3"
    },
    "language_info": {
      "name": "python"
    },
    "gpuClass": "standard"
  },
  "cells": [
    {
      "cell_type": "markdown",
      "source": [
        "**Final DRL project (RL in Portfolio Management)**"
      ],
      "metadata": {
        "id": "7eLZH7NOm6Lv"
      }
    },
    {
      "cell_type": "code",
      "source": [
        "from google.colab import drive\n",
        "drive.mount('/content/drive')"
      ],
      "metadata": {
        "id": "TNPZWYZpZfA2",
        "colab": {
          "base_uri": "https://localhost:8080/"
        },
        "outputId": "a84d10eb-6fee-4b67-e08d-d357d623a913"
      },
      "execution_count": null,
      "outputs": [
        {
          "output_type": "stream",
          "name": "stdout",
          "text": [
            "Mounted at /content/drive\n"
          ]
        }
      ]
    },
    {
      "cell_type": "code",
      "source": [
        "# working directory\n",
        "\n",
        "! pwd"
      ],
      "metadata": {
        "colab": {
          "base_uri": "https://localhost:8080/"
        },
        "id": "-HzvUzuiZTqf",
        "outputId": "f090c154-711f-4b47-94fb-8dd32ea5bf45"
      },
      "execution_count": null,
      "outputs": [
        {
          "output_type": "stream",
          "name": "stdout",
          "text": [
            "/content\n"
          ]
        }
      ]
    },
    {
      "cell_type": "code",
      "source": [
        "! cd /content/drive"
      ],
      "metadata": {
        "id": "0nlrdZFnZZWc"
      },
      "execution_count": null,
      "outputs": []
    },
    {
      "cell_type": "markdown",
      "source": [
        "## Loading libraries"
      ],
      "metadata": {
        "id": "qh6WMeh8CbZu"
      }
    },
    {
      "cell_type": "code",
      "source": [
        "!pip install yfinance"
      ],
      "metadata": {
        "colab": {
          "base_uri": "https://localhost:8080/"
        },
        "id": "IdY1vZAanG84",
        "outputId": "7b337c61-2a06-4d47-a00a-0da432ad9804"
      },
      "execution_count": null,
      "outputs": [
        {
          "output_type": "stream",
          "name": "stdout",
          "text": [
            "Looking in indexes: https://pypi.org/simple, https://us-python.pkg.dev/colab-wheels/public/simple/\n",
            "Collecting yfinance\n",
            "  Downloading yfinance-0.2.12-py2.py3-none-any.whl (59 kB)\n",
            "\u001b[2K     \u001b[90m━━━━━━━━━━━━━━━━━━━━━━━━━━━━━━━━━━━━━━━━\u001b[0m \u001b[32m59.2/59.2 KB\u001b[0m \u001b[31m2.8 MB/s\u001b[0m eta \u001b[36m0:00:00\u001b[0m\n",
            "\u001b[?25hCollecting requests>=2.26\n",
            "  Downloading requests-2.28.2-py3-none-any.whl (62 kB)\n",
            "\u001b[2K     \u001b[90m━━━━━━━━━━━━━━━━━━━━━━━━━━━━━━━━━━━━━━━━\u001b[0m \u001b[32m62.8/62.8 KB\u001b[0m \u001b[31m7.5 MB/s\u001b[0m eta \u001b[36m0:00:00\u001b[0m\n",
            "\u001b[?25hRequirement already satisfied: appdirs>=1.4.4 in /usr/local/lib/python3.8/dist-packages (from yfinance) (1.4.4)\n",
            "Requirement already satisfied: pandas>=1.3.0 in /usr/local/lib/python3.8/dist-packages (from yfinance) (1.3.5)\n",
            "Requirement already satisfied: pytz>=2022.5 in /usr/local/lib/python3.8/dist-packages (from yfinance) (2022.7.1)\n",
            "Collecting frozendict>=2.3.4\n",
            "  Downloading frozendict-2.3.5-cp38-cp38-manylinux_2_17_x86_64.manylinux2014_x86_64.whl (111 kB)\n",
            "\u001b[2K     \u001b[90m━━━━━━━━━━━━━━━━━━━━━━━━━━━━━━━━━━━━━━\u001b[0m \u001b[32m111.2/111.2 KB\u001b[0m \u001b[31m10.8 MB/s\u001b[0m eta \u001b[36m0:00:00\u001b[0m\n",
            "\u001b[?25hRequirement already satisfied: multitasking>=0.0.7 in /usr/local/lib/python3.8/dist-packages (from yfinance) (0.0.11)\n",
            "Collecting beautifulsoup4>=4.11.1\n",
            "  Downloading beautifulsoup4-4.11.2-py3-none-any.whl (129 kB)\n",
            "\u001b[2K     \u001b[90m━━━━━━━━━━━━━━━━━━━━━━━━━━━━━━━━━━━━━━\u001b[0m \u001b[32m129.4/129.4 KB\u001b[0m \u001b[31m12.9 MB/s\u001b[0m eta \u001b[36m0:00:00\u001b[0m\n",
            "\u001b[?25hRequirement already satisfied: lxml>=4.9.1 in /usr/local/lib/python3.8/dist-packages (from yfinance) (4.9.2)\n",
            "Collecting cryptography>=3.3.2\n",
            "  Downloading cryptography-39.0.1-cp36-abi3-manylinux_2_28_x86_64.whl (4.2 MB)\n",
            "\u001b[2K     \u001b[90m━━━━━━━━━━━━━━━━━━━━━━━━━━━━━━━━━━━━━━━━\u001b[0m \u001b[32m4.2/4.2 MB\u001b[0m \u001b[31m49.0 MB/s\u001b[0m eta \u001b[36m0:00:00\u001b[0m\n",
            "\u001b[?25hCollecting html5lib>=1.1\n",
            "  Downloading html5lib-1.1-py2.py3-none-any.whl (112 kB)\n",
            "\u001b[2K     \u001b[90m━━━━━━━━━━━━━━━━━━━━━━━━━━━━━━━━━━━━━━\u001b[0m \u001b[32m112.2/112.2 KB\u001b[0m \u001b[31m11.7 MB/s\u001b[0m eta \u001b[36m0:00:00\u001b[0m\n",
            "\u001b[?25hRequirement already satisfied: numpy>=1.16.5 in /usr/local/lib/python3.8/dist-packages (from yfinance) (1.22.4)\n",
            "Collecting soupsieve>1.2\n",
            "  Downloading soupsieve-2.4-py3-none-any.whl (37 kB)\n",
            "Requirement already satisfied: cffi>=1.12 in /usr/local/lib/python3.8/dist-packages (from cryptography>=3.3.2->yfinance) (1.15.1)\n",
            "Requirement already satisfied: webencodings in /usr/local/lib/python3.8/dist-packages (from html5lib>=1.1->yfinance) (0.5.1)\n",
            "Requirement already satisfied: six>=1.9 in /usr/local/lib/python3.8/dist-packages (from html5lib>=1.1->yfinance) (1.15.0)\n",
            "Requirement already satisfied: python-dateutil>=2.7.3 in /usr/local/lib/python3.8/dist-packages (from pandas>=1.3.0->yfinance) (2.8.2)\n",
            "Requirement already satisfied: urllib3<1.27,>=1.21.1 in /usr/local/lib/python3.8/dist-packages (from requests>=2.26->yfinance) (1.26.14)\n",
            "Requirement already satisfied: idna<4,>=2.5 in /usr/local/lib/python3.8/dist-packages (from requests>=2.26->yfinance) (2.10)\n",
            "Requirement already satisfied: charset-normalizer<4,>=2 in /usr/local/lib/python3.8/dist-packages (from requests>=2.26->yfinance) (3.0.1)\n",
            "Requirement already satisfied: certifi>=2017.4.17 in /usr/local/lib/python3.8/dist-packages (from requests>=2.26->yfinance) (2022.12.7)\n",
            "Requirement already satisfied: pycparser in /usr/local/lib/python3.8/dist-packages (from cffi>=1.12->cryptography>=3.3.2->yfinance) (2.21)\n",
            "Installing collected packages: soupsieve, requests, html5lib, frozendict, cryptography, beautifulsoup4, yfinance\n",
            "  Attempting uninstall: requests\n",
            "    Found existing installation: requests 2.25.1\n",
            "    Uninstalling requests-2.25.1:\n",
            "      Successfully uninstalled requests-2.25.1\n",
            "  Attempting uninstall: html5lib\n",
            "    Found existing installation: html5lib 1.0.1\n",
            "    Uninstalling html5lib-1.0.1:\n",
            "      Successfully uninstalled html5lib-1.0.1\n",
            "  Attempting uninstall: beautifulsoup4\n",
            "    Found existing installation: beautifulsoup4 4.6.3\n",
            "    Uninstalling beautifulsoup4-4.6.3:\n",
            "      Successfully uninstalled beautifulsoup4-4.6.3\n",
            "Successfully installed beautifulsoup4-4.11.2 cryptography-39.0.1 frozendict-2.3.5 html5lib-1.1 requests-2.28.2 soupsieve-2.4 yfinance-0.2.12\n"
          ]
        }
      ]
    },
    {
      "cell_type": "code",
      "execution_count": null,
      "metadata": {
        "id": "JFIoQEegGRqT"
      },
      "outputs": [],
      "source": [
        "# importing libaries:\n",
        "\n",
        "# basics\n",
        "import pandas as pd\n",
        "import numpy as np\n",
        "import matplotlib.pyplot as plt\n",
        "\n",
        "# modeling\n",
        "import yfinance as yf # yahoo finance library\n",
        "import datetime\n",
        "import time\n",
        "import requests\n",
        "import io\n",
        "import gym, os\n",
        "from itertools import count\n",
        "import torch\n",
        "import torch.nn as nn\n",
        "import torch.optim as optim\n",
        "import torch.nn.functional as F\n",
        "from torch.distributions import Categorical"
      ]
    },
    {
      "cell_type": "markdown",
      "source": [
        "## Preprocessing and loading the fund data"
      ],
      "metadata": {
        "id": "ysAmBfglCfHV"
      }
    },
    {
      "cell_type": "code",
      "source": [
        "# setting the time interval for which to pull historical share prices for (5 years)\n",
        "start = datetime.datetime(2018,1,1) # format: year, month, day\n",
        "end = datetime.datetime(2022,12,31)"
      ],
      "metadata": {
        "id": "O5Dz_uXQnKVU"
      },
      "execution_count": null,
      "outputs": []
    },
    {
      "cell_type": "code",
      "source": [
        "# creating a list of ticker/Isin symbols \n",
        "\n",
        "Symbols = [\"VNRT.DE\",\"VGEU.DE\",\"VGEJ.DE\",\"VJPN.DE\",\"VFEM.DE\",\"CSHD.L\"] # ticker symbols of the Vanguard ETFs for the 5 regions + lyxor overnight return money market fund"
      ],
      "metadata": {
        "id": "4x1Sm5vsoQ_j"
      },
      "execution_count": null,
      "outputs": []
    },
    {
      "cell_type": "code",
      "source": [
        "# Iterating over each stock symbol and download the daily stock prices between the start and end dates using the yahoo finance API\n",
        "\n",
        "# create empty dataframe\n",
        "price_hist_df = pd.DataFrame() \n",
        "for i in Symbols:  \n",
        "    \n",
        "    # print the symbol which is being downloaded\n",
        "    print( str(Symbols.index(i)) + str(' : ') + i, sep=',', end=',', flush=True)  \n",
        "    \n",
        "    try:\n",
        "        # download the stock price \n",
        "        stock = []\n",
        "        stock = yf.download(i,start=start, end=end, progress=False)\n",
        "        \n",
        "        # append the individual stock prices \n",
        "        if len(stock) == 0:\n",
        "            None\n",
        "        else:\n",
        "            stock['Name']=i\n",
        "            price_hist_df = price_hist_df.append(stock,sort=False)\n",
        "    except Exception:\n",
        "        None"
      ],
      "metadata": {
        "colab": {
          "base_uri": "https://localhost:8080/"
        },
        "id": "CHxft7KtnlL8",
        "outputId": "c4e6b9eb-59c4-4f49-ef7c-f92a88b4537a"
      },
      "execution_count": null,
      "outputs": [
        {
          "output_type": "stream",
          "name": "stdout",
          "text": [
            "0 : VNRT.DE,1 : VGEU.DE,2 : VGEJ.DE,3 : VJPN.DE,4 : VFEM.DE,5 : CSHD.L,"
          ]
        }
      ]
    },
    {
      "cell_type": "code",
      "source": [
        "price_hist_df"
      ],
      "metadata": {
        "colab": {
          "base_uri": "https://localhost:8080/",
          "height": 455
        },
        "id": "NADVpdtfpmVD",
        "outputId": "0aa81549-3d9e-4736-eaee-1f07e2772b01"
      },
      "execution_count": null,
      "outputs": [
        {
          "output_type": "execute_result",
          "data": {
            "text/plain": [
              "                  Open        High         Low       Close   Adj Close  \\\n",
              "Date                                                                     \n",
              "2018-01-02   56.020000   56.020000   55.070000   55.389999   55.389999   \n",
              "2018-01-03   55.750000   55.860001   55.750000   55.860001   55.860001   \n",
              "2018-01-04   55.889999   55.970001   55.889999   55.950001   55.950001   \n",
              "2018-01-05   56.150002   56.380001   56.139999   56.380001   56.380001   \n",
              "2018-01-08   56.750000   56.799999   56.709999   56.799999   56.799999   \n",
              "...                ...         ...         ...         ...         ...   \n",
              "2022-12-22  109.355003  109.355003  109.355003  109.235001  109.235001   \n",
              "2022-12-23  109.415001  109.415001  109.415001  109.415001  109.415001   \n",
              "2022-12-28  109.900002  109.900002  109.544998  109.474998  109.474998   \n",
              "2022-12-29  109.709999  109.959999  109.684998  109.974998  109.974998   \n",
              "2022-12-30  109.980003  110.315002  109.980003  110.144997  110.144997   \n",
              "\n",
              "            Volume     Name  \n",
              "Date                         \n",
              "2018-01-02    3629  VNRT.DE  \n",
              "2018-01-03     350  VNRT.DE  \n",
              "2018-01-04     107  VNRT.DE  \n",
              "2018-01-05     375  VNRT.DE  \n",
              "2018-01-08     383  VNRT.DE  \n",
              "...            ...      ...  \n",
              "2022-12-22    2324   CSHD.L  \n",
              "2022-12-23       0   CSHD.L  \n",
              "2022-12-28      15   CSHD.L  \n",
              "2022-12-29   20986   CSHD.L  \n",
              "2022-12-30    4648   CSHD.L  \n",
              "\n",
              "[7608 rows x 7 columns]"
            ],
            "text/html": [
              "\n",
              "  <div id=\"df-325e2fa0-c1f6-4be4-af92-da026000ffe1\">\n",
              "    <div class=\"colab-df-container\">\n",
              "      <div>\n",
              "<style scoped>\n",
              "    .dataframe tbody tr th:only-of-type {\n",
              "        vertical-align: middle;\n",
              "    }\n",
              "\n",
              "    .dataframe tbody tr th {\n",
              "        vertical-align: top;\n",
              "    }\n",
              "\n",
              "    .dataframe thead th {\n",
              "        text-align: right;\n",
              "    }\n",
              "</style>\n",
              "<table border=\"1\" class=\"dataframe\">\n",
              "  <thead>\n",
              "    <tr style=\"text-align: right;\">\n",
              "      <th></th>\n",
              "      <th>Open</th>\n",
              "      <th>High</th>\n",
              "      <th>Low</th>\n",
              "      <th>Close</th>\n",
              "      <th>Adj Close</th>\n",
              "      <th>Volume</th>\n",
              "      <th>Name</th>\n",
              "    </tr>\n",
              "    <tr>\n",
              "      <th>Date</th>\n",
              "      <th></th>\n",
              "      <th></th>\n",
              "      <th></th>\n",
              "      <th></th>\n",
              "      <th></th>\n",
              "      <th></th>\n",
              "      <th></th>\n",
              "    </tr>\n",
              "  </thead>\n",
              "  <tbody>\n",
              "    <tr>\n",
              "      <th>2018-01-02</th>\n",
              "      <td>56.020000</td>\n",
              "      <td>56.020000</td>\n",
              "      <td>55.070000</td>\n",
              "      <td>55.389999</td>\n",
              "      <td>55.389999</td>\n",
              "      <td>3629</td>\n",
              "      <td>VNRT.DE</td>\n",
              "    </tr>\n",
              "    <tr>\n",
              "      <th>2018-01-03</th>\n",
              "      <td>55.750000</td>\n",
              "      <td>55.860001</td>\n",
              "      <td>55.750000</td>\n",
              "      <td>55.860001</td>\n",
              "      <td>55.860001</td>\n",
              "      <td>350</td>\n",
              "      <td>VNRT.DE</td>\n",
              "    </tr>\n",
              "    <tr>\n",
              "      <th>2018-01-04</th>\n",
              "      <td>55.889999</td>\n",
              "      <td>55.970001</td>\n",
              "      <td>55.889999</td>\n",
              "      <td>55.950001</td>\n",
              "      <td>55.950001</td>\n",
              "      <td>107</td>\n",
              "      <td>VNRT.DE</td>\n",
              "    </tr>\n",
              "    <tr>\n",
              "      <th>2018-01-05</th>\n",
              "      <td>56.150002</td>\n",
              "      <td>56.380001</td>\n",
              "      <td>56.139999</td>\n",
              "      <td>56.380001</td>\n",
              "      <td>56.380001</td>\n",
              "      <td>375</td>\n",
              "      <td>VNRT.DE</td>\n",
              "    </tr>\n",
              "    <tr>\n",
              "      <th>2018-01-08</th>\n",
              "      <td>56.750000</td>\n",
              "      <td>56.799999</td>\n",
              "      <td>56.709999</td>\n",
              "      <td>56.799999</td>\n",
              "      <td>56.799999</td>\n",
              "      <td>383</td>\n",
              "      <td>VNRT.DE</td>\n",
              "    </tr>\n",
              "    <tr>\n",
              "      <th>...</th>\n",
              "      <td>...</td>\n",
              "      <td>...</td>\n",
              "      <td>...</td>\n",
              "      <td>...</td>\n",
              "      <td>...</td>\n",
              "      <td>...</td>\n",
              "      <td>...</td>\n",
              "    </tr>\n",
              "    <tr>\n",
              "      <th>2022-12-22</th>\n",
              "      <td>109.355003</td>\n",
              "      <td>109.355003</td>\n",
              "      <td>109.355003</td>\n",
              "      <td>109.235001</td>\n",
              "      <td>109.235001</td>\n",
              "      <td>2324</td>\n",
              "      <td>CSHD.L</td>\n",
              "    </tr>\n",
              "    <tr>\n",
              "      <th>2022-12-23</th>\n",
              "      <td>109.415001</td>\n",
              "      <td>109.415001</td>\n",
              "      <td>109.415001</td>\n",
              "      <td>109.415001</td>\n",
              "      <td>109.415001</td>\n",
              "      <td>0</td>\n",
              "      <td>CSHD.L</td>\n",
              "    </tr>\n",
              "    <tr>\n",
              "      <th>2022-12-28</th>\n",
              "      <td>109.900002</td>\n",
              "      <td>109.900002</td>\n",
              "      <td>109.544998</td>\n",
              "      <td>109.474998</td>\n",
              "      <td>109.474998</td>\n",
              "      <td>15</td>\n",
              "      <td>CSHD.L</td>\n",
              "    </tr>\n",
              "    <tr>\n",
              "      <th>2022-12-29</th>\n",
              "      <td>109.709999</td>\n",
              "      <td>109.959999</td>\n",
              "      <td>109.684998</td>\n",
              "      <td>109.974998</td>\n",
              "      <td>109.974998</td>\n",
              "      <td>20986</td>\n",
              "      <td>CSHD.L</td>\n",
              "    </tr>\n",
              "    <tr>\n",
              "      <th>2022-12-30</th>\n",
              "      <td>109.980003</td>\n",
              "      <td>110.315002</td>\n",
              "      <td>109.980003</td>\n",
              "      <td>110.144997</td>\n",
              "      <td>110.144997</td>\n",
              "      <td>4648</td>\n",
              "      <td>CSHD.L</td>\n",
              "    </tr>\n",
              "  </tbody>\n",
              "</table>\n",
              "<p>7608 rows × 7 columns</p>\n",
              "</div>\n",
              "      <button class=\"colab-df-convert\" onclick=\"convertToInteractive('df-325e2fa0-c1f6-4be4-af92-da026000ffe1')\"\n",
              "              title=\"Convert this dataframe to an interactive table.\"\n",
              "              style=\"display:none;\">\n",
              "        \n",
              "  <svg xmlns=\"http://www.w3.org/2000/svg\" height=\"24px\"viewBox=\"0 0 24 24\"\n",
              "       width=\"24px\">\n",
              "    <path d=\"M0 0h24v24H0V0z\" fill=\"none\"/>\n",
              "    <path d=\"M18.56 5.44l.94 2.06.94-2.06 2.06-.94-2.06-.94-.94-2.06-.94 2.06-2.06.94zm-11 1L8.5 8.5l.94-2.06 2.06-.94-2.06-.94L8.5 2.5l-.94 2.06-2.06.94zm10 10l.94 2.06.94-2.06 2.06-.94-2.06-.94-.94-2.06-.94 2.06-2.06.94z\"/><path d=\"M17.41 7.96l-1.37-1.37c-.4-.4-.92-.59-1.43-.59-.52 0-1.04.2-1.43.59L10.3 9.45l-7.72 7.72c-.78.78-.78 2.05 0 2.83L4 21.41c.39.39.9.59 1.41.59.51 0 1.02-.2 1.41-.59l7.78-7.78 2.81-2.81c.8-.78.8-2.07 0-2.86zM5.41 20L4 18.59l7.72-7.72 1.47 1.35L5.41 20z\"/>\n",
              "  </svg>\n",
              "      </button>\n",
              "      \n",
              "  <style>\n",
              "    .colab-df-container {\n",
              "      display:flex;\n",
              "      flex-wrap:wrap;\n",
              "      gap: 12px;\n",
              "    }\n",
              "\n",
              "    .colab-df-convert {\n",
              "      background-color: #E8F0FE;\n",
              "      border: none;\n",
              "      border-radius: 50%;\n",
              "      cursor: pointer;\n",
              "      display: none;\n",
              "      fill: #1967D2;\n",
              "      height: 32px;\n",
              "      padding: 0 0 0 0;\n",
              "      width: 32px;\n",
              "    }\n",
              "\n",
              "    .colab-df-convert:hover {\n",
              "      background-color: #E2EBFA;\n",
              "      box-shadow: 0px 1px 2px rgba(60, 64, 67, 0.3), 0px 1px 3px 1px rgba(60, 64, 67, 0.15);\n",
              "      fill: #174EA6;\n",
              "    }\n",
              "\n",
              "    [theme=dark] .colab-df-convert {\n",
              "      background-color: #3B4455;\n",
              "      fill: #D2E3FC;\n",
              "    }\n",
              "\n",
              "    [theme=dark] .colab-df-convert:hover {\n",
              "      background-color: #434B5C;\n",
              "      box-shadow: 0px 1px 3px 1px rgba(0, 0, 0, 0.15);\n",
              "      filter: drop-shadow(0px 1px 2px rgba(0, 0, 0, 0.3));\n",
              "      fill: #FFFFFF;\n",
              "    }\n",
              "  </style>\n",
              "\n",
              "      <script>\n",
              "        const buttonEl =\n",
              "          document.querySelector('#df-325e2fa0-c1f6-4be4-af92-da026000ffe1 button.colab-df-convert');\n",
              "        buttonEl.style.display =\n",
              "          google.colab.kernel.accessAllowed ? 'block' : 'none';\n",
              "\n",
              "        async function convertToInteractive(key) {\n",
              "          const element = document.querySelector('#df-325e2fa0-c1f6-4be4-af92-da026000ffe1');\n",
              "          const dataTable =\n",
              "            await google.colab.kernel.invokeFunction('convertToInteractive',\n",
              "                                                     [key], {});\n",
              "          if (!dataTable) return;\n",
              "\n",
              "          const docLinkHtml = 'Like what you see? Visit the ' +\n",
              "            '<a target=\"_blank\" href=https://colab.research.google.com/notebooks/data_table.ipynb>data table notebook</a>'\n",
              "            + ' to learn more about interactive tables.';\n",
              "          element.innerHTML = '';\n",
              "          dataTable['output_type'] = 'display_data';\n",
              "          await google.colab.output.renderOutput(dataTable, element);\n",
              "          const docLink = document.createElement('div');\n",
              "          docLink.innerHTML = docLinkHtml;\n",
              "          element.appendChild(docLink);\n",
              "        }\n",
              "      </script>\n",
              "    </div>\n",
              "  </div>\n",
              "  "
            ]
          },
          "metadata": {},
          "execution_count": 7
        }
      ]
    },
    {
      "cell_type": "code",
      "source": [
        "price_hist_df.shape"
      ],
      "metadata": {
        "colab": {
          "base_uri": "https://localhost:8080/"
        },
        "id": "0dj2kiHjpzqm",
        "outputId": "d74f786b-5c0b-4004-eedd-8aa927fa66ad"
      },
      "execution_count": null,
      "outputs": [
        {
          "output_type": "execute_result",
          "data": {
            "text/plain": [
              "(7608, 7)"
            ]
          },
          "metadata": {},
          "execution_count": 8
        }
      ]
    },
    {
      "cell_type": "markdown",
      "source": [
        "Adjusted close is the closing price after adjustments for all applicable splits and dividend distributions. Data is adjusted using appropriate split and dividend multipliers, adhering to Center for Research in Security Prices (CRSP) standards."
      ],
      "metadata": {
        "id": "iSwYdLJtvW59"
      }
    },
    {
      "cell_type": "code",
      "source": [
        "price_hist_df.describe()"
      ],
      "metadata": {
        "colab": {
          "base_uri": "https://localhost:8080/",
          "height": 300
        },
        "id": "Qw0qQXmqqOag",
        "outputId": "8ac9ba9b-6282-4781-b91f-145eafe1e4f9"
      },
      "execution_count": null,
      "outputs": [
        {
          "output_type": "execute_result",
          "data": {
            "text/plain": [
              "              Open         High          Low        Close    Adj Close  \\\n",
              "count  7608.000000  7608.000000  7608.000000  7608.000000  7608.000000   \n",
              "mean     54.824990    54.981083    54.642839    54.811661    54.811661   \n",
              "std      34.378716    34.401261    34.357264    34.376286    34.376286   \n",
              "min      15.274000    15.624000    15.162000    15.330000    15.330000   \n",
              "25%      27.055000    27.145000    26.955000    27.059999    27.059999   \n",
              "50%      37.932501    37.997499    37.867500    37.927500    37.927500   \n",
              "75%      70.602499    70.884998    70.482502    70.744999    70.744999   \n",
              "max     132.460007   132.690002   132.270004   132.449997   132.449997   \n",
              "\n",
              "              Volume  \n",
              "count    7608.000000  \n",
              "mean    13600.154048  \n",
              "std     20820.649043  \n",
              "min         0.000000  \n",
              "25%      2118.500000  \n",
              "50%      7124.500000  \n",
              "75%     16812.500000  \n",
              "max    341186.000000  "
            ],
            "text/html": [
              "\n",
              "  <div id=\"df-d907f4e1-9194-4ac5-8097-49efa30c29bb\">\n",
              "    <div class=\"colab-df-container\">\n",
              "      <div>\n",
              "<style scoped>\n",
              "    .dataframe tbody tr th:only-of-type {\n",
              "        vertical-align: middle;\n",
              "    }\n",
              "\n",
              "    .dataframe tbody tr th {\n",
              "        vertical-align: top;\n",
              "    }\n",
              "\n",
              "    .dataframe thead th {\n",
              "        text-align: right;\n",
              "    }\n",
              "</style>\n",
              "<table border=\"1\" class=\"dataframe\">\n",
              "  <thead>\n",
              "    <tr style=\"text-align: right;\">\n",
              "      <th></th>\n",
              "      <th>Open</th>\n",
              "      <th>High</th>\n",
              "      <th>Low</th>\n",
              "      <th>Close</th>\n",
              "      <th>Adj Close</th>\n",
              "      <th>Volume</th>\n",
              "    </tr>\n",
              "  </thead>\n",
              "  <tbody>\n",
              "    <tr>\n",
              "      <th>count</th>\n",
              "      <td>7608.000000</td>\n",
              "      <td>7608.000000</td>\n",
              "      <td>7608.000000</td>\n",
              "      <td>7608.000000</td>\n",
              "      <td>7608.000000</td>\n",
              "      <td>7608.000000</td>\n",
              "    </tr>\n",
              "    <tr>\n",
              "      <th>mean</th>\n",
              "      <td>54.824990</td>\n",
              "      <td>54.981083</td>\n",
              "      <td>54.642839</td>\n",
              "      <td>54.811661</td>\n",
              "      <td>54.811661</td>\n",
              "      <td>13600.154048</td>\n",
              "    </tr>\n",
              "    <tr>\n",
              "      <th>std</th>\n",
              "      <td>34.378716</td>\n",
              "      <td>34.401261</td>\n",
              "      <td>34.357264</td>\n",
              "      <td>34.376286</td>\n",
              "      <td>34.376286</td>\n",
              "      <td>20820.649043</td>\n",
              "    </tr>\n",
              "    <tr>\n",
              "      <th>min</th>\n",
              "      <td>15.274000</td>\n",
              "      <td>15.624000</td>\n",
              "      <td>15.162000</td>\n",
              "      <td>15.330000</td>\n",
              "      <td>15.330000</td>\n",
              "      <td>0.000000</td>\n",
              "    </tr>\n",
              "    <tr>\n",
              "      <th>25%</th>\n",
              "      <td>27.055000</td>\n",
              "      <td>27.145000</td>\n",
              "      <td>26.955000</td>\n",
              "      <td>27.059999</td>\n",
              "      <td>27.059999</td>\n",
              "      <td>2118.500000</td>\n",
              "    </tr>\n",
              "    <tr>\n",
              "      <th>50%</th>\n",
              "      <td>37.932501</td>\n",
              "      <td>37.997499</td>\n",
              "      <td>37.867500</td>\n",
              "      <td>37.927500</td>\n",
              "      <td>37.927500</td>\n",
              "      <td>7124.500000</td>\n",
              "    </tr>\n",
              "    <tr>\n",
              "      <th>75%</th>\n",
              "      <td>70.602499</td>\n",
              "      <td>70.884998</td>\n",
              "      <td>70.482502</td>\n",
              "      <td>70.744999</td>\n",
              "      <td>70.744999</td>\n",
              "      <td>16812.500000</td>\n",
              "    </tr>\n",
              "    <tr>\n",
              "      <th>max</th>\n",
              "      <td>132.460007</td>\n",
              "      <td>132.690002</td>\n",
              "      <td>132.270004</td>\n",
              "      <td>132.449997</td>\n",
              "      <td>132.449997</td>\n",
              "      <td>341186.000000</td>\n",
              "    </tr>\n",
              "  </tbody>\n",
              "</table>\n",
              "</div>\n",
              "      <button class=\"colab-df-convert\" onclick=\"convertToInteractive('df-d907f4e1-9194-4ac5-8097-49efa30c29bb')\"\n",
              "              title=\"Convert this dataframe to an interactive table.\"\n",
              "              style=\"display:none;\">\n",
              "        \n",
              "  <svg xmlns=\"http://www.w3.org/2000/svg\" height=\"24px\"viewBox=\"0 0 24 24\"\n",
              "       width=\"24px\">\n",
              "    <path d=\"M0 0h24v24H0V0z\" fill=\"none\"/>\n",
              "    <path d=\"M18.56 5.44l.94 2.06.94-2.06 2.06-.94-2.06-.94-.94-2.06-.94 2.06-2.06.94zm-11 1L8.5 8.5l.94-2.06 2.06-.94-2.06-.94L8.5 2.5l-.94 2.06-2.06.94zm10 10l.94 2.06.94-2.06 2.06-.94-2.06-.94-.94-2.06-.94 2.06-2.06.94z\"/><path d=\"M17.41 7.96l-1.37-1.37c-.4-.4-.92-.59-1.43-.59-.52 0-1.04.2-1.43.59L10.3 9.45l-7.72 7.72c-.78.78-.78 2.05 0 2.83L4 21.41c.39.39.9.59 1.41.59.51 0 1.02-.2 1.41-.59l7.78-7.78 2.81-2.81c.8-.78.8-2.07 0-2.86zM5.41 20L4 18.59l7.72-7.72 1.47 1.35L5.41 20z\"/>\n",
              "  </svg>\n",
              "      </button>\n",
              "      \n",
              "  <style>\n",
              "    .colab-df-container {\n",
              "      display:flex;\n",
              "      flex-wrap:wrap;\n",
              "      gap: 12px;\n",
              "    }\n",
              "\n",
              "    .colab-df-convert {\n",
              "      background-color: #E8F0FE;\n",
              "      border: none;\n",
              "      border-radius: 50%;\n",
              "      cursor: pointer;\n",
              "      display: none;\n",
              "      fill: #1967D2;\n",
              "      height: 32px;\n",
              "      padding: 0 0 0 0;\n",
              "      width: 32px;\n",
              "    }\n",
              "\n",
              "    .colab-df-convert:hover {\n",
              "      background-color: #E2EBFA;\n",
              "      box-shadow: 0px 1px 2px rgba(60, 64, 67, 0.3), 0px 1px 3px 1px rgba(60, 64, 67, 0.15);\n",
              "      fill: #174EA6;\n",
              "    }\n",
              "\n",
              "    [theme=dark] .colab-df-convert {\n",
              "      background-color: #3B4455;\n",
              "      fill: #D2E3FC;\n",
              "    }\n",
              "\n",
              "    [theme=dark] .colab-df-convert:hover {\n",
              "      background-color: #434B5C;\n",
              "      box-shadow: 0px 1px 3px 1px rgba(0, 0, 0, 0.15);\n",
              "      filter: drop-shadow(0px 1px 2px rgba(0, 0, 0, 0.3));\n",
              "      fill: #FFFFFF;\n",
              "    }\n",
              "  </style>\n",
              "\n",
              "      <script>\n",
              "        const buttonEl =\n",
              "          document.querySelector('#df-d907f4e1-9194-4ac5-8097-49efa30c29bb button.colab-df-convert');\n",
              "        buttonEl.style.display =\n",
              "          google.colab.kernel.accessAllowed ? 'block' : 'none';\n",
              "\n",
              "        async function convertToInteractive(key) {\n",
              "          const element = document.querySelector('#df-d907f4e1-9194-4ac5-8097-49efa30c29bb');\n",
              "          const dataTable =\n",
              "            await google.colab.kernel.invokeFunction('convertToInteractive',\n",
              "                                                     [key], {});\n",
              "          if (!dataTable) return;\n",
              "\n",
              "          const docLinkHtml = 'Like what you see? Visit the ' +\n",
              "            '<a target=\"_blank\" href=https://colab.research.google.com/notebooks/data_table.ipynb>data table notebook</a>'\n",
              "            + ' to learn more about interactive tables.';\n",
              "          element.innerHTML = '';\n",
              "          dataTable['output_type'] = 'display_data';\n",
              "          await google.colab.output.renderOutput(dataTable, element);\n",
              "          const docLink = document.createElement('div');\n",
              "          docLink.innerHTML = docLinkHtml;\n",
              "          element.appendChild(docLink);\n",
              "        }\n",
              "      </script>\n",
              "    </div>\n",
              "  </div>\n",
              "  "
            ]
          },
          "metadata": {},
          "execution_count": 9
        }
      ]
    },
    {
      "cell_type": "code",
      "source": [
        "price_hist_df.isna().sum()"
      ],
      "metadata": {
        "colab": {
          "base_uri": "https://localhost:8080/"
        },
        "id": "9EibB0azqRwP",
        "outputId": "3d0fb3f2-0f00-4f7c-d533-1acf283e7158"
      },
      "execution_count": null,
      "outputs": [
        {
          "output_type": "execute_result",
          "data": {
            "text/plain": [
              "Open         0\n",
              "High         0\n",
              "Low          0\n",
              "Close        0\n",
              "Adj Close    0\n",
              "Volume       0\n",
              "Name         0\n",
              "dtype: int64"
            ]
          },
          "metadata": {},
          "execution_count": 10
        }
      ]
    },
    {
      "cell_type": "code",
      "source": [
        "price_hist_df = price_hist_df.drop([\"Open\",\"High\",\"Low\",\"Adj Close\",\"Volume\"],axis=1)\n",
        "\n",
        "price_hist_df"
      ],
      "metadata": {
        "colab": {
          "base_uri": "https://localhost:8080/",
          "height": 455
        },
        "id": "AM8Ko_6rsiah",
        "outputId": "e19e1399-56d7-4dfb-fe72-311d6d8dd2a0"
      },
      "execution_count": null,
      "outputs": [
        {
          "output_type": "execute_result",
          "data": {
            "text/plain": [
              "                 Close     Name\n",
              "Date                           \n",
              "2018-01-02   55.389999  VNRT.DE\n",
              "2018-01-03   55.860001  VNRT.DE\n",
              "2018-01-04   55.950001  VNRT.DE\n",
              "2018-01-05   56.380001  VNRT.DE\n",
              "2018-01-08   56.799999  VNRT.DE\n",
              "...                ...      ...\n",
              "2022-12-22  109.235001   CSHD.L\n",
              "2022-12-23  109.415001   CSHD.L\n",
              "2022-12-28  109.474998   CSHD.L\n",
              "2022-12-29  109.974998   CSHD.L\n",
              "2022-12-30  110.144997   CSHD.L\n",
              "\n",
              "[7608 rows x 2 columns]"
            ],
            "text/html": [
              "\n",
              "  <div id=\"df-12815fda-f750-4c98-9e7d-7f1471c816d4\">\n",
              "    <div class=\"colab-df-container\">\n",
              "      <div>\n",
              "<style scoped>\n",
              "    .dataframe tbody tr th:only-of-type {\n",
              "        vertical-align: middle;\n",
              "    }\n",
              "\n",
              "    .dataframe tbody tr th {\n",
              "        vertical-align: top;\n",
              "    }\n",
              "\n",
              "    .dataframe thead th {\n",
              "        text-align: right;\n",
              "    }\n",
              "</style>\n",
              "<table border=\"1\" class=\"dataframe\">\n",
              "  <thead>\n",
              "    <tr style=\"text-align: right;\">\n",
              "      <th></th>\n",
              "      <th>Close</th>\n",
              "      <th>Name</th>\n",
              "    </tr>\n",
              "    <tr>\n",
              "      <th>Date</th>\n",
              "      <th></th>\n",
              "      <th></th>\n",
              "    </tr>\n",
              "  </thead>\n",
              "  <tbody>\n",
              "    <tr>\n",
              "      <th>2018-01-02</th>\n",
              "      <td>55.389999</td>\n",
              "      <td>VNRT.DE</td>\n",
              "    </tr>\n",
              "    <tr>\n",
              "      <th>2018-01-03</th>\n",
              "      <td>55.860001</td>\n",
              "      <td>VNRT.DE</td>\n",
              "    </tr>\n",
              "    <tr>\n",
              "      <th>2018-01-04</th>\n",
              "      <td>55.950001</td>\n",
              "      <td>VNRT.DE</td>\n",
              "    </tr>\n",
              "    <tr>\n",
              "      <th>2018-01-05</th>\n",
              "      <td>56.380001</td>\n",
              "      <td>VNRT.DE</td>\n",
              "    </tr>\n",
              "    <tr>\n",
              "      <th>2018-01-08</th>\n",
              "      <td>56.799999</td>\n",
              "      <td>VNRT.DE</td>\n",
              "    </tr>\n",
              "    <tr>\n",
              "      <th>...</th>\n",
              "      <td>...</td>\n",
              "      <td>...</td>\n",
              "    </tr>\n",
              "    <tr>\n",
              "      <th>2022-12-22</th>\n",
              "      <td>109.235001</td>\n",
              "      <td>CSHD.L</td>\n",
              "    </tr>\n",
              "    <tr>\n",
              "      <th>2022-12-23</th>\n",
              "      <td>109.415001</td>\n",
              "      <td>CSHD.L</td>\n",
              "    </tr>\n",
              "    <tr>\n",
              "      <th>2022-12-28</th>\n",
              "      <td>109.474998</td>\n",
              "      <td>CSHD.L</td>\n",
              "    </tr>\n",
              "    <tr>\n",
              "      <th>2022-12-29</th>\n",
              "      <td>109.974998</td>\n",
              "      <td>CSHD.L</td>\n",
              "    </tr>\n",
              "    <tr>\n",
              "      <th>2022-12-30</th>\n",
              "      <td>110.144997</td>\n",
              "      <td>CSHD.L</td>\n",
              "    </tr>\n",
              "  </tbody>\n",
              "</table>\n",
              "<p>7608 rows × 2 columns</p>\n",
              "</div>\n",
              "      <button class=\"colab-df-convert\" onclick=\"convertToInteractive('df-12815fda-f750-4c98-9e7d-7f1471c816d4')\"\n",
              "              title=\"Convert this dataframe to an interactive table.\"\n",
              "              style=\"display:none;\">\n",
              "        \n",
              "  <svg xmlns=\"http://www.w3.org/2000/svg\" height=\"24px\"viewBox=\"0 0 24 24\"\n",
              "       width=\"24px\">\n",
              "    <path d=\"M0 0h24v24H0V0z\" fill=\"none\"/>\n",
              "    <path d=\"M18.56 5.44l.94 2.06.94-2.06 2.06-.94-2.06-.94-.94-2.06-.94 2.06-2.06.94zm-11 1L8.5 8.5l.94-2.06 2.06-.94-2.06-.94L8.5 2.5l-.94 2.06-2.06.94zm10 10l.94 2.06.94-2.06 2.06-.94-2.06-.94-.94-2.06-.94 2.06-2.06.94z\"/><path d=\"M17.41 7.96l-1.37-1.37c-.4-.4-.92-.59-1.43-.59-.52 0-1.04.2-1.43.59L10.3 9.45l-7.72 7.72c-.78.78-.78 2.05 0 2.83L4 21.41c.39.39.9.59 1.41.59.51 0 1.02-.2 1.41-.59l7.78-7.78 2.81-2.81c.8-.78.8-2.07 0-2.86zM5.41 20L4 18.59l7.72-7.72 1.47 1.35L5.41 20z\"/>\n",
              "  </svg>\n",
              "      </button>\n",
              "      \n",
              "  <style>\n",
              "    .colab-df-container {\n",
              "      display:flex;\n",
              "      flex-wrap:wrap;\n",
              "      gap: 12px;\n",
              "    }\n",
              "\n",
              "    .colab-df-convert {\n",
              "      background-color: #E8F0FE;\n",
              "      border: none;\n",
              "      border-radius: 50%;\n",
              "      cursor: pointer;\n",
              "      display: none;\n",
              "      fill: #1967D2;\n",
              "      height: 32px;\n",
              "      padding: 0 0 0 0;\n",
              "      width: 32px;\n",
              "    }\n",
              "\n",
              "    .colab-df-convert:hover {\n",
              "      background-color: #E2EBFA;\n",
              "      box-shadow: 0px 1px 2px rgba(60, 64, 67, 0.3), 0px 1px 3px 1px rgba(60, 64, 67, 0.15);\n",
              "      fill: #174EA6;\n",
              "    }\n",
              "\n",
              "    [theme=dark] .colab-df-convert {\n",
              "      background-color: #3B4455;\n",
              "      fill: #D2E3FC;\n",
              "    }\n",
              "\n",
              "    [theme=dark] .colab-df-convert:hover {\n",
              "      background-color: #434B5C;\n",
              "      box-shadow: 0px 1px 3px 1px rgba(0, 0, 0, 0.15);\n",
              "      filter: drop-shadow(0px 1px 2px rgba(0, 0, 0, 0.3));\n",
              "      fill: #FFFFFF;\n",
              "    }\n",
              "  </style>\n",
              "\n",
              "      <script>\n",
              "        const buttonEl =\n",
              "          document.querySelector('#df-12815fda-f750-4c98-9e7d-7f1471c816d4 button.colab-df-convert');\n",
              "        buttonEl.style.display =\n",
              "          google.colab.kernel.accessAllowed ? 'block' : 'none';\n",
              "\n",
              "        async function convertToInteractive(key) {\n",
              "          const element = document.querySelector('#df-12815fda-f750-4c98-9e7d-7f1471c816d4');\n",
              "          const dataTable =\n",
              "            await google.colab.kernel.invokeFunction('convertToInteractive',\n",
              "                                                     [key], {});\n",
              "          if (!dataTable) return;\n",
              "\n",
              "          const docLinkHtml = 'Like what you see? Visit the ' +\n",
              "            '<a target=\"_blank\" href=https://colab.research.google.com/notebooks/data_table.ipynb>data table notebook</a>'\n",
              "            + ' to learn more about interactive tables.';\n",
              "          element.innerHTML = '';\n",
              "          dataTable['output_type'] = 'display_data';\n",
              "          await google.colab.output.renderOutput(dataTable, element);\n",
              "          const docLink = document.createElement('div');\n",
              "          docLink.innerHTML = docLinkHtml;\n",
              "          element.appendChild(docLink);\n",
              "        }\n",
              "      </script>\n",
              "    </div>\n",
              "  </div>\n",
              "  "
            ]
          },
          "metadata": {},
          "execution_count": 11
        }
      ]
    },
    {
      "cell_type": "code",
      "source": [
        "# reshaping the dataframe\n",
        "prices_reshaped_df = pd.pivot_table(price_hist_df, values ='Close', index =['Date'],columns =['Name']).reset_index().ffill(axis=0) # ffill: fill NaNs with preceding values\n",
        "\n",
        "prices_reshaped_df = prices_reshaped_df.set_index(\"Date\") # new index\n",
        "\n",
        "\n",
        "prices_reshaped_df # 4years*252 trading days = 1008 days woth of price data"
      ],
      "metadata": {
        "colab": {
          "base_uri": "https://localhost:8080/",
          "height": 455
        },
        "id": "fVWhPiRstII4",
        "outputId": "c3c9d872-9e7a-4a47-a733-06da410230ab"
      },
      "execution_count": null,
      "outputs": [
        {
          "output_type": "execute_result",
          "data": {
            "text/plain": [
              "Name            CSHD.L    VFEM.DE    VGEJ.DE    VGEU.DE    VJPN.DE    VNRT.DE\n",
              "Date                                                                         \n",
              "2018-01-02  126.599998  52.139999  23.094999  30.660000  26.629999  55.389999\n",
              "2018-01-03  127.349998  52.889999  23.309999  30.850000  27.059999  55.860001\n",
              "2018-01-04  127.849998  53.139999  23.309999  31.115000  27.315001  55.950001\n",
              "2018-01-05  127.459999  53.590000  23.480000  31.385000  27.410000  56.380001\n",
              "2018-01-08  126.879997  53.900002  23.480000  31.500000  27.764999  56.799999\n",
              "...                ...        ...        ...        ...        ...        ...\n",
              "2022-12-23  109.415001  49.805000  23.125000  33.025002  27.264999  87.610001\n",
              "2022-12-27  109.415001  50.240002  23.205000  33.064999  27.115000  87.519997\n",
              "2022-12-28  109.474998  49.980000  23.055000  32.939999  27.014999  87.040001\n",
              "2022-12-29  109.974998  50.520000  23.059999  33.180000  27.235001  87.699997\n",
              "2022-12-30  110.144997  49.965000  22.990000  32.900002  27.059999  87.089996\n",
              "\n",
              "[1285 rows x 6 columns]"
            ],
            "text/html": [
              "\n",
              "  <div id=\"df-5ffa2df7-1333-495b-868b-e0f9e19a7d98\">\n",
              "    <div class=\"colab-df-container\">\n",
              "      <div>\n",
              "<style scoped>\n",
              "    .dataframe tbody tr th:only-of-type {\n",
              "        vertical-align: middle;\n",
              "    }\n",
              "\n",
              "    .dataframe tbody tr th {\n",
              "        vertical-align: top;\n",
              "    }\n",
              "\n",
              "    .dataframe thead th {\n",
              "        text-align: right;\n",
              "    }\n",
              "</style>\n",
              "<table border=\"1\" class=\"dataframe\">\n",
              "  <thead>\n",
              "    <tr style=\"text-align: right;\">\n",
              "      <th>Name</th>\n",
              "      <th>CSHD.L</th>\n",
              "      <th>VFEM.DE</th>\n",
              "      <th>VGEJ.DE</th>\n",
              "      <th>VGEU.DE</th>\n",
              "      <th>VJPN.DE</th>\n",
              "      <th>VNRT.DE</th>\n",
              "    </tr>\n",
              "    <tr>\n",
              "      <th>Date</th>\n",
              "      <th></th>\n",
              "      <th></th>\n",
              "      <th></th>\n",
              "      <th></th>\n",
              "      <th></th>\n",
              "      <th></th>\n",
              "    </tr>\n",
              "  </thead>\n",
              "  <tbody>\n",
              "    <tr>\n",
              "      <th>2018-01-02</th>\n",
              "      <td>126.599998</td>\n",
              "      <td>52.139999</td>\n",
              "      <td>23.094999</td>\n",
              "      <td>30.660000</td>\n",
              "      <td>26.629999</td>\n",
              "      <td>55.389999</td>\n",
              "    </tr>\n",
              "    <tr>\n",
              "      <th>2018-01-03</th>\n",
              "      <td>127.349998</td>\n",
              "      <td>52.889999</td>\n",
              "      <td>23.309999</td>\n",
              "      <td>30.850000</td>\n",
              "      <td>27.059999</td>\n",
              "      <td>55.860001</td>\n",
              "    </tr>\n",
              "    <tr>\n",
              "      <th>2018-01-04</th>\n",
              "      <td>127.849998</td>\n",
              "      <td>53.139999</td>\n",
              "      <td>23.309999</td>\n",
              "      <td>31.115000</td>\n",
              "      <td>27.315001</td>\n",
              "      <td>55.950001</td>\n",
              "    </tr>\n",
              "    <tr>\n",
              "      <th>2018-01-05</th>\n",
              "      <td>127.459999</td>\n",
              "      <td>53.590000</td>\n",
              "      <td>23.480000</td>\n",
              "      <td>31.385000</td>\n",
              "      <td>27.410000</td>\n",
              "      <td>56.380001</td>\n",
              "    </tr>\n",
              "    <tr>\n",
              "      <th>2018-01-08</th>\n",
              "      <td>126.879997</td>\n",
              "      <td>53.900002</td>\n",
              "      <td>23.480000</td>\n",
              "      <td>31.500000</td>\n",
              "      <td>27.764999</td>\n",
              "      <td>56.799999</td>\n",
              "    </tr>\n",
              "    <tr>\n",
              "      <th>...</th>\n",
              "      <td>...</td>\n",
              "      <td>...</td>\n",
              "      <td>...</td>\n",
              "      <td>...</td>\n",
              "      <td>...</td>\n",
              "      <td>...</td>\n",
              "    </tr>\n",
              "    <tr>\n",
              "      <th>2022-12-23</th>\n",
              "      <td>109.415001</td>\n",
              "      <td>49.805000</td>\n",
              "      <td>23.125000</td>\n",
              "      <td>33.025002</td>\n",
              "      <td>27.264999</td>\n",
              "      <td>87.610001</td>\n",
              "    </tr>\n",
              "    <tr>\n",
              "      <th>2022-12-27</th>\n",
              "      <td>109.415001</td>\n",
              "      <td>50.240002</td>\n",
              "      <td>23.205000</td>\n",
              "      <td>33.064999</td>\n",
              "      <td>27.115000</td>\n",
              "      <td>87.519997</td>\n",
              "    </tr>\n",
              "    <tr>\n",
              "      <th>2022-12-28</th>\n",
              "      <td>109.474998</td>\n",
              "      <td>49.980000</td>\n",
              "      <td>23.055000</td>\n",
              "      <td>32.939999</td>\n",
              "      <td>27.014999</td>\n",
              "      <td>87.040001</td>\n",
              "    </tr>\n",
              "    <tr>\n",
              "      <th>2022-12-29</th>\n",
              "      <td>109.974998</td>\n",
              "      <td>50.520000</td>\n",
              "      <td>23.059999</td>\n",
              "      <td>33.180000</td>\n",
              "      <td>27.235001</td>\n",
              "      <td>87.699997</td>\n",
              "    </tr>\n",
              "    <tr>\n",
              "      <th>2022-12-30</th>\n",
              "      <td>110.144997</td>\n",
              "      <td>49.965000</td>\n",
              "      <td>22.990000</td>\n",
              "      <td>32.900002</td>\n",
              "      <td>27.059999</td>\n",
              "      <td>87.089996</td>\n",
              "    </tr>\n",
              "  </tbody>\n",
              "</table>\n",
              "<p>1285 rows × 6 columns</p>\n",
              "</div>\n",
              "      <button class=\"colab-df-convert\" onclick=\"convertToInteractive('df-5ffa2df7-1333-495b-868b-e0f9e19a7d98')\"\n",
              "              title=\"Convert this dataframe to an interactive table.\"\n",
              "              style=\"display:none;\">\n",
              "        \n",
              "  <svg xmlns=\"http://www.w3.org/2000/svg\" height=\"24px\"viewBox=\"0 0 24 24\"\n",
              "       width=\"24px\">\n",
              "    <path d=\"M0 0h24v24H0V0z\" fill=\"none\"/>\n",
              "    <path d=\"M18.56 5.44l.94 2.06.94-2.06 2.06-.94-2.06-.94-.94-2.06-.94 2.06-2.06.94zm-11 1L8.5 8.5l.94-2.06 2.06-.94-2.06-.94L8.5 2.5l-.94 2.06-2.06.94zm10 10l.94 2.06.94-2.06 2.06-.94-2.06-.94-.94-2.06-.94 2.06-2.06.94z\"/><path d=\"M17.41 7.96l-1.37-1.37c-.4-.4-.92-.59-1.43-.59-.52 0-1.04.2-1.43.59L10.3 9.45l-7.72 7.72c-.78.78-.78 2.05 0 2.83L4 21.41c.39.39.9.59 1.41.59.51 0 1.02-.2 1.41-.59l7.78-7.78 2.81-2.81c.8-.78.8-2.07 0-2.86zM5.41 20L4 18.59l7.72-7.72 1.47 1.35L5.41 20z\"/>\n",
              "  </svg>\n",
              "      </button>\n",
              "      \n",
              "  <style>\n",
              "    .colab-df-container {\n",
              "      display:flex;\n",
              "      flex-wrap:wrap;\n",
              "      gap: 12px;\n",
              "    }\n",
              "\n",
              "    .colab-df-convert {\n",
              "      background-color: #E8F0FE;\n",
              "      border: none;\n",
              "      border-radius: 50%;\n",
              "      cursor: pointer;\n",
              "      display: none;\n",
              "      fill: #1967D2;\n",
              "      height: 32px;\n",
              "      padding: 0 0 0 0;\n",
              "      width: 32px;\n",
              "    }\n",
              "\n",
              "    .colab-df-convert:hover {\n",
              "      background-color: #E2EBFA;\n",
              "      box-shadow: 0px 1px 2px rgba(60, 64, 67, 0.3), 0px 1px 3px 1px rgba(60, 64, 67, 0.15);\n",
              "      fill: #174EA6;\n",
              "    }\n",
              "\n",
              "    [theme=dark] .colab-df-convert {\n",
              "      background-color: #3B4455;\n",
              "      fill: #D2E3FC;\n",
              "    }\n",
              "\n",
              "    [theme=dark] .colab-df-convert:hover {\n",
              "      background-color: #434B5C;\n",
              "      box-shadow: 0px 1px 3px 1px rgba(0, 0, 0, 0.15);\n",
              "      filter: drop-shadow(0px 1px 2px rgba(0, 0, 0, 0.3));\n",
              "      fill: #FFFFFF;\n",
              "    }\n",
              "  </style>\n",
              "\n",
              "      <script>\n",
              "        const buttonEl =\n",
              "          document.querySelector('#df-5ffa2df7-1333-495b-868b-e0f9e19a7d98 button.colab-df-convert');\n",
              "        buttonEl.style.display =\n",
              "          google.colab.kernel.accessAllowed ? 'block' : 'none';\n",
              "\n",
              "        async function convertToInteractive(key) {\n",
              "          const element = document.querySelector('#df-5ffa2df7-1333-495b-868b-e0f9e19a7d98');\n",
              "          const dataTable =\n",
              "            await google.colab.kernel.invokeFunction('convertToInteractive',\n",
              "                                                     [key], {});\n",
              "          if (!dataTable) return;\n",
              "\n",
              "          const docLinkHtml = 'Like what you see? Visit the ' +\n",
              "            '<a target=\"_blank\" href=https://colab.research.google.com/notebooks/data_table.ipynb>data table notebook</a>'\n",
              "            + ' to learn more about interactive tables.';\n",
              "          element.innerHTML = '';\n",
              "          dataTable['output_type'] = 'display_data';\n",
              "          await google.colab.output.renderOutput(dataTable, element);\n",
              "          const docLink = document.createElement('div');\n",
              "          docLink.innerHTML = docLinkHtml;\n",
              "          element.appendChild(docLink);\n",
              "        }\n",
              "      </script>\n",
              "    </div>\n",
              "  </div>\n",
              "  "
            ]
          },
          "metadata": {},
          "execution_count": 12
        }
      ]
    },
    {
      "cell_type": "code",
      "source": [
        "prices_reshaped_df.isna().sum() # check for NaNs"
      ],
      "metadata": {
        "colab": {
          "base_uri": "https://localhost:8080/"
        },
        "id": "JhpBVKh1AoYN",
        "outputId": "b047f3cb-19b6-4a97-c7f3-47a1d9a56672"
      },
      "execution_count": null,
      "outputs": [
        {
          "output_type": "execute_result",
          "data": {
            "text/plain": [
              "Name\n",
              "CSHD.L     0\n",
              "VFEM.DE    0\n",
              "VGEJ.DE    0\n",
              "VGEU.DE    0\n",
              "VJPN.DE    0\n",
              "VNRT.DE    0\n",
              "dtype: int64"
            ]
          },
          "metadata": {},
          "execution_count": 13
        }
      ]
    },
    {
      "cell_type": "code",
      "source": [
        "prices_reshaped_df.columns"
      ],
      "metadata": {
        "colab": {
          "base_uri": "https://localhost:8080/"
        },
        "id": "0jeNd9xE9set",
        "outputId": "56751aad-d74f-4619-e728-80fb573458bb"
      },
      "execution_count": null,
      "outputs": [
        {
          "output_type": "execute_result",
          "data": {
            "text/plain": [
              "Index(['CSHD.L', 'VFEM.DE', 'VGEJ.DE', 'VGEU.DE', 'VJPN.DE', 'VNRT.DE'], dtype='object', name='Name')"
            ]
          },
          "metadata": {},
          "execution_count": 14
        }
      ]
    },
    {
      "cell_type": "code",
      "source": [
        "prices_reshaped_df.plot()\n",
        "##plt.title(\"historical ETF share prices\")\n",
        "plt.ylabel(\"share price (€)\")\n",
        "plt.xlabel(\"date\")\n",
        "plt.savefig(\"etf_history.png\")"
      ],
      "metadata": {
        "colab": {
          "base_uri": "https://localhost:8080/",
          "height": 269
        },
        "id": "Bd44m2Js0Gxq",
        "outputId": "0dcef198-3446-48fd-c160-a4c29b2f3b88"
      },
      "execution_count": null,
      "outputs": [
        {
          "output_type": "display_data",
          "data": {
            "text/plain": [
              "<Figure size 432x288 with 1 Axes>"
            ],
            "image/png": "[encoded data removed]"
          },
          "metadata": {
            "needs_background": "light"
          }
        }
      ]
    },
    {
      "cell_type": "code",
      "source": [
        "prices_reshaped_df.to_csv(\"etf_history.csv\") # saving the df to a csv file"
      ],
      "metadata": {
        "id": "NenjWpoVEjD5"
      },
      "execution_count": null,
      "outputs": []
    },
    {
      "cell_type": "code",
      "source": [
        "prices_reshaped_df.isnull().values.any() # mo missing data"
      ],
      "metadata": {
        "colab": {
          "base_uri": "https://localhost:8080/"
        },
        "id": "du5SXf3isBem",
        "outputId": "e96740f6-8210-4f48-c36f-a32a0dd07092"
      },
      "execution_count": null,
      "outputs": [
        {
          "output_type": "execute_result",
          "data": {
            "text/plain": [
              "False"
            ]
          },
          "metadata": {},
          "execution_count": 22
        }
      ]
    },
    {
      "cell_type": "code",
      "source": [
        "prices_reshaped_df.isnull().sum().sum()"
      ],
      "metadata": {
        "colab": {
          "base_uri": "https://localhost:8080/"
        },
        "id": "l_FjmYUxvB9D",
        "outputId": "1a725a9d-d42e-4257-f14f-6611a7e3d9a6"
      },
      "execution_count": null,
      "outputs": [
        {
          "output_type": "execute_result",
          "data": {
            "text/plain": [
              "0"
            ]
          },
          "metadata": {},
          "execution_count": 23
        }
      ]
    },
    {
      "cell_type": "markdown",
      "source": [
        "Github repo zum 3 stock case blogpost\n",
        "https://github.com/kvsnoufal/portfolio-optimization"
      ],
      "metadata": {
        "id": "UZh10BaDDFNb"
      }
    },
    {
      "cell_type": "markdown",
      "source": [
        "Deep RL Tutorial for Portfolio Allocation\n",
        "\n",
        "https://towardsdatascience.com/finrl-for-quantitative-finance-tutorial-for-portfolio-allocation-9b417660c7cd"
      ],
      "metadata": {
        "id": "1ZqwFFBQ2rZY"
      }
    },
    {
      "cell_type": "markdown",
      "source": [
        "FINRL library source: https://github.com/AI4Finance-Foundation/FinRL"
      ],
      "metadata": {
        "id": "o6-7mf6OXpo3"
      }
    },
    {
      "cell_type": "code",
      "source": [
        "etf_hist_df = pd.read_csv(\"etf_history.csv\").set_index(\"Date\")\n",
        "\n",
        "## normalise etf_hist_df with respect to its initial values. That way, value changes are being represented as a percentage\n",
        "#etf_hist_df.iloc[:, :] = etf_hist_df.iloc[:, :] / etf_hist_df.iloc[0, :]\n",
        "\n",
        "etf_hist_df"
      ],
      "metadata": {
        "colab": {
          "base_uri": "https://localhost:8080/",
          "height": 455
        },
        "id": "LauJ9tDxDwAq",
        "outputId": "1db9a6ef-9500-4476-fa5a-80fd1f92429a"
      },
      "execution_count": null,
      "outputs": [
        {
          "output_type": "execute_result",
          "data": {
            "text/plain": [
              "                CSHD.L    VFEM.DE    VGEJ.DE    VGEU.DE    VJPN.DE    VNRT.DE\n",
              "Date                                                                         \n",
              "2018-01-02  126.599998  52.139999  23.094999  30.660000  26.629999  55.389999\n",
              "2018-01-03  127.349998  52.889999  23.309999  30.850000  27.059999  55.860001\n",
              "2018-01-04  127.849998  53.139999  23.309999  31.115000  27.315001  55.950001\n",
              "2018-01-05  127.459999  53.590000  23.480000  31.385000  27.410000  56.380001\n",
              "2018-01-08  126.879997  53.900002  23.480000  31.500000  27.764999  56.799999\n",
              "...                ...        ...        ...        ...        ...        ...\n",
              "2022-12-23  109.415001  49.805000  23.125000  33.025002  27.264999  87.610001\n",
              "2022-12-27  109.415001  50.240002  23.205000  33.064999  27.115000  87.519997\n",
              "2022-12-28  109.474998  49.980000  23.055000  32.939999  27.014999  87.040001\n",
              "2022-12-29  109.974998  50.520000  23.059999  33.180000  27.235001  87.699997\n",
              "2022-12-30  110.144997  49.965000  22.990000  32.900002  27.059999  87.089996\n",
              "\n",
              "[1285 rows x 6 columns]"
            ],
            "text/html": [
              "\n",
              "  <div id=\"df-9d54e85e-e8e4-435b-bd30-074133724483\">\n",
              "    <div class=\"colab-df-container\">\n",
              "      <div>\n",
              "<style scoped>\n",
              "    .dataframe tbody tr th:only-of-type {\n",
              "        vertical-align: middle;\n",
              "    }\n",
              "\n",
              "    .dataframe tbody tr th {\n",
              "        vertical-align: top;\n",
              "    }\n",
              "\n",
              "    .dataframe thead th {\n",
              "        text-align: right;\n",
              "    }\n",
              "</style>\n",
              "<table border=\"1\" class=\"dataframe\">\n",
              "  <thead>\n",
              "    <tr style=\"text-align: right;\">\n",
              "      <th></th>\n",
              "      <th>CSHD.L</th>\n",
              "      <th>VFEM.DE</th>\n",
              "      <th>VGEJ.DE</th>\n",
              "      <th>VGEU.DE</th>\n",
              "      <th>VJPN.DE</th>\n",
              "      <th>VNRT.DE</th>\n",
              "    </tr>\n",
              "    <tr>\n",
              "      <th>Date</th>\n",
              "      <th></th>\n",
              "      <th></th>\n",
              "      <th></th>\n",
              "      <th></th>\n",
              "      <th></th>\n",
              "      <th></th>\n",
              "    </tr>\n",
              "  </thead>\n",
              "  <tbody>\n",
              "    <tr>\n",
              "      <th>2018-01-02</th>\n",
              "      <td>126.599998</td>\n",
              "      <td>52.139999</td>\n",
              "      <td>23.094999</td>\n",
              "      <td>30.660000</td>\n",
              "      <td>26.629999</td>\n",
              "      <td>55.389999</td>\n",
              "    </tr>\n",
              "    <tr>\n",
              "      <th>2018-01-03</th>\n",
              "      <td>127.349998</td>\n",
              "      <td>52.889999</td>\n",
              "      <td>23.309999</td>\n",
              "      <td>30.850000</td>\n",
              "      <td>27.059999</td>\n",
              "      <td>55.860001</td>\n",
              "    </tr>\n",
              "    <tr>\n",
              "      <th>2018-01-04</th>\n",
              "      <td>127.849998</td>\n",
              "      <td>53.139999</td>\n",
              "      <td>23.309999</td>\n",
              "      <td>31.115000</td>\n",
              "      <td>27.315001</td>\n",
              "      <td>55.950001</td>\n",
              "    </tr>\n",
              "    <tr>\n",
              "      <th>2018-01-05</th>\n",
              "      <td>127.459999</td>\n",
              "      <td>53.590000</td>\n",
              "      <td>23.480000</td>\n",
              "      <td>31.385000</td>\n",
              "      <td>27.410000</td>\n",
              "      <td>56.380001</td>\n",
              "    </tr>\n",
              "    <tr>\n",
              "      <th>2018-01-08</th>\n",
              "      <td>126.879997</td>\n",
              "      <td>53.900002</td>\n",
              "      <td>23.480000</td>\n",
              "      <td>31.500000</td>\n",
              "      <td>27.764999</td>\n",
              "      <td>56.799999</td>\n",
              "    </tr>\n",
              "    <tr>\n",
              "      <th>...</th>\n",
              "      <td>...</td>\n",
              "      <td>...</td>\n",
              "      <td>...</td>\n",
              "      <td>...</td>\n",
              "      <td>...</td>\n",
              "      <td>...</td>\n",
              "    </tr>\n",
              "    <tr>\n",
              "      <th>2022-12-23</th>\n",
              "      <td>109.415001</td>\n",
              "      <td>49.805000</td>\n",
              "      <td>23.125000</td>\n",
              "      <td>33.025002</td>\n",
              "      <td>27.264999</td>\n",
              "      <td>87.610001</td>\n",
              "    </tr>\n",
              "    <tr>\n",
              "      <th>2022-12-27</th>\n",
              "      <td>109.415001</td>\n",
              "      <td>50.240002</td>\n",
              "      <td>23.205000</td>\n",
              "      <td>33.064999</td>\n",
              "      <td>27.115000</td>\n",
              "      <td>87.519997</td>\n",
              "    </tr>\n",
              "    <tr>\n",
              "      <th>2022-12-28</th>\n",
              "      <td>109.474998</td>\n",
              "      <td>49.980000</td>\n",
              "      <td>23.055000</td>\n",
              "      <td>32.939999</td>\n",
              "      <td>27.014999</td>\n",
              "      <td>87.040001</td>\n",
              "    </tr>\n",
              "    <tr>\n",
              "      <th>2022-12-29</th>\n",
              "      <td>109.974998</td>\n",
              "      <td>50.520000</td>\n",
              "      <td>23.059999</td>\n",
              "      <td>33.180000</td>\n",
              "      <td>27.235001</td>\n",
              "      <td>87.699997</td>\n",
              "    </tr>\n",
              "    <tr>\n",
              "      <th>2022-12-30</th>\n",
              "      <td>110.144997</td>\n",
              "      <td>49.965000</td>\n",
              "      <td>22.990000</td>\n",
              "      <td>32.900002</td>\n",
              "      <td>27.059999</td>\n",
              "      <td>87.089996</td>\n",
              "    </tr>\n",
              "  </tbody>\n",
              "</table>\n",
              "<p>1285 rows × 6 columns</p>\n",
              "</div>\n",
              "      <button class=\"colab-df-convert\" onclick=\"convertToInteractive('df-9d54e85e-e8e4-435b-bd30-074133724483')\"\n",
              "              title=\"Convert this dataframe to an interactive table.\"\n",
              "              style=\"display:none;\">\n",
              "        \n",
              "  <svg xmlns=\"http://www.w3.org/2000/svg\" height=\"24px\"viewBox=\"0 0 24 24\"\n",
              "       width=\"24px\">\n",
              "    <path d=\"M0 0h24v24H0V0z\" fill=\"none\"/>\n",
              "    <path d=\"M18.56 5.44l.94 2.06.94-2.06 2.06-.94-2.06-.94-.94-2.06-.94 2.06-2.06.94zm-11 1L8.5 8.5l.94-2.06 2.06-.94-2.06-.94L8.5 2.5l-.94 2.06-2.06.94zm10 10l.94 2.06.94-2.06 2.06-.94-2.06-.94-.94-2.06-.94 2.06-2.06.94z\"/><path d=\"M17.41 7.96l-1.37-1.37c-.4-.4-.92-.59-1.43-.59-.52 0-1.04.2-1.43.59L10.3 9.45l-7.72 7.72c-.78.78-.78 2.05 0 2.83L4 21.41c.39.39.9.59 1.41.59.51 0 1.02-.2 1.41-.59l7.78-7.78 2.81-2.81c.8-.78.8-2.07 0-2.86zM5.41 20L4 18.59l7.72-7.72 1.47 1.35L5.41 20z\"/>\n",
              "  </svg>\n",
              "      </button>\n",
              "      \n",
              "  <style>\n",
              "    .colab-df-container {\n",
              "      display:flex;\n",
              "      flex-wrap:wrap;\n",
              "      gap: 12px;\n",
              "    }\n",
              "\n",
              "    .colab-df-convert {\n",
              "      background-color: #E8F0FE;\n",
              "      border: none;\n",
              "      border-radius: 50%;\n",
              "      cursor: pointer;\n",
              "      display: none;\n",
              "      fill: #1967D2;\n",
              "      height: 32px;\n",
              "      padding: 0 0 0 0;\n",
              "      width: 32px;\n",
              "    }\n",
              "\n",
              "    .colab-df-convert:hover {\n",
              "      background-color: #E2EBFA;\n",
              "      box-shadow: 0px 1px 2px rgba(60, 64, 67, 0.3), 0px 1px 3px 1px rgba(60, 64, 67, 0.15);\n",
              "      fill: #174EA6;\n",
              "    }\n",
              "\n",
              "    [theme=dark] .colab-df-convert {\n",
              "      background-color: #3B4455;\n",
              "      fill: #D2E3FC;\n",
              "    }\n",
              "\n",
              "    [theme=dark] .colab-df-convert:hover {\n",
              "      background-color: #434B5C;\n",
              "      box-shadow: 0px 1px 3px 1px rgba(0, 0, 0, 0.15);\n",
              "      filter: drop-shadow(0px 1px 2px rgba(0, 0, 0, 0.3));\n",
              "      fill: #FFFFFF;\n",
              "    }\n",
              "  </style>\n",
              "\n",
              "      <script>\n",
              "        const buttonEl =\n",
              "          document.querySelector('#df-9d54e85e-e8e4-435b-bd30-074133724483 button.colab-df-convert');\n",
              "        buttonEl.style.display =\n",
              "          google.colab.kernel.accessAllowed ? 'block' : 'none';\n",
              "\n",
              "        async function convertToInteractive(key) {\n",
              "          const element = document.querySelector('#df-9d54e85e-e8e4-435b-bd30-074133724483');\n",
              "          const dataTable =\n",
              "            await google.colab.kernel.invokeFunction('convertToInteractive',\n",
              "                                                     [key], {});\n",
              "          if (!dataTable) return;\n",
              "\n",
              "          const docLinkHtml = 'Like what you see? Visit the ' +\n",
              "            '<a target=\"_blank\" href=https://colab.research.google.com/notebooks/data_table.ipynb>data table notebook</a>'\n",
              "            + ' to learn more about interactive tables.';\n",
              "          element.innerHTML = '';\n",
              "          dataTable['output_type'] = 'display_data';\n",
              "          await google.colab.output.renderOutput(dataTable, element);\n",
              "          const docLink = document.createElement('div');\n",
              "          docLink.innerHTML = docLinkHtml;\n",
              "          element.appendChild(docLink);\n",
              "        }\n",
              "      </script>\n",
              "    </div>\n",
              "  </div>\n",
              "  "
            ]
          },
          "metadata": {},
          "execution_count": 76
        }
      ]
    },
    {
      "cell_type": "code",
      "source": [
        "# defining environment parameters\n",
        "stock_dimension = etf_hist_df.shape[1] # no of columns\n",
        "\n",
        "stock_dimension"
      ],
      "metadata": {
        "colab": {
          "base_uri": "https://localhost:8080/"
        },
        "id": "otxSWguuEYUm",
        "outputId": "32437c64-74d7-41f2-c513-630531bd79e3"
      },
      "execution_count": null,
      "outputs": [
        {
          "output_type": "execute_result",
          "data": {
            "text/plain": [
              "6"
            ]
          },
          "metadata": {},
          "execution_count": 26
        }
      ]
    },
    {
      "cell_type": "markdown",
      "source": [
        "## Building the environment"
      ],
      "metadata": {
        "id": "oe6wdJMXCk__"
      }
    },
    {
      "cell_type": "markdown",
      "source": [
        "asset allocation env source: https://github.com/acbraith/gym-asset_allocation/blob/master/gym_asset_allocation/envs/asset_allocation_env.py"
      ],
      "metadata": {
        "id": "DYOe6xkqrnT9"
      }
    },
    {
      "cell_type": "markdown",
      "source": [
        "Custom environment to use"
      ],
      "metadata": {
        "id": "XrQ1TwLUgynq"
      }
    },
    {
      "cell_type": "code",
      "source": [
        "import gym\n",
        "from gym import spaces\n",
        "from gym.utils import seeding\n",
        "\n",
        "class Environment(gym.Env):\n",
        "  def __init__(self, etf_hist_df, episode_length, observation_length):\n",
        "    \n",
        "    self.etf_hist_df = etf_hist_df\n",
        "    self.episode_length = episode_length # number of days for training\n",
        "    self.observation_length = observation_length # number of days being currently observed for next decision \n",
        "\n",
        "    self.n = etf_hist_df.shape[1] # number of assets\n",
        "    #self.total_days_in_dataset = etf_hist_df.shape[0] # total number of days in dataset\n",
        "\n",
        "    self.observation_space = spaces.Box(0, np.inf, shape=(self.n, self.observation_length)) # observation tensor: n assets being observed for xx days\n",
        "    self.action_space = spaces.Box(0, 1, shape=(self.n,))\n",
        "    \n",
        "    self._seed()\n",
        "    self._reset()\n",
        "\n",
        "  def _seed(self, seed=None):\n",
        "        self.np_random, seed = seeding.np_random(seed)\n",
        "        return [seed]\n",
        "\n",
        "  def _rng(self, low, high):\n",
        "    return np.random.randint(low=low, high=high)       \n",
        "\n",
        "## 1 interaction step of the agent with the environment\n",
        "  def _step(self, action):\n",
        "       #assert self.action_space.contains(action), \"%r (%s) invalid\" % (action, type(action))\n",
        "\n",
        "        if not self._get_over():\n",
        "            self._take_action(action) # t is the day the asset allocation is chosen. t+1 is the day when the portfolio value has changed\n",
        "            self.t += 1 # proceed to next day (time step)\n",
        "        \n",
        "        self.observation = self._get_observation()\n",
        "        # update portfolio value\n",
        "        self.reward = self._get_reward() \n",
        "        self.episode_over = self._get_over()\n",
        "        self.info = {}\n",
        "\n",
        "        \n",
        "        return self.observation, self.reward, self.episode_over, self.info\n",
        "\n",
        "## asset allocation: 6x1 array for weigths in time t\n",
        "## portfolio value: PF value at time t       \n",
        "\n",
        "  def _reset(self, episode_start=0, episode_end=30): ## reset environment (new initialization of the arrays)\n",
        "    self.asset_allocation = np.zeros((self.episode_length, self.n)) # one row for each day. one column for each asset\n",
        "    self.asset_allocation[0, 0] = 1 # initialise 100% of the money as cash (money market etf)\n",
        "    \n",
        "    self.episode_start = episode_start\n",
        "    self.episode_end = episode_end\n",
        "    self.t = 0 # current day within the episode. We start at day 0\n",
        "\n",
        "    self.prices_df = etf_hist_df.iloc[episode_start:episode_end, :]\n",
        "\n",
        "    self.portfolio_value = np.zeros((self.episode_length))\n",
        "    #self.portfolio_value[0] = np.dot(self.asset_allocation[0], etf_hist_df.iloc[0,:])\n",
        "    self.portfolio_value[0] = 1\n",
        "    self.profitslist = [] ## list to save profits for each time step\n",
        "    pass\n",
        "  \n",
        "  ## done flag\n",
        "  def _get_over(self):\n",
        "    return self.t+1 >= self.episode_length # false if another day for investment is still in episode\n",
        "\n",
        "## normalize weight vector to length 1; \n",
        "  def _take_action(self, action):\n",
        "    if action.sum() != 1 :\n",
        "      action /= action.sum() # normalise action ## /= action <- action/action.sum()\n",
        "\n",
        "    if len(action) != 6:\n",
        "        raise \"shapeerror\"\n",
        "    \n",
        "    # save asset allocation in array\n",
        "    self.asset_allocation[self.t] = action\n",
        "\n",
        "    # assess current closing price vector\n",
        "    self.gamma = self.prices_df.iloc[self.t+1, :] / self.prices_df.iloc[self.t, :]\n",
        "\n",
        "    # calculate profit over night\n",
        "    # dot product of asset allocation with relative value change in asset\n",
        "\n",
        "    self.profit = np.dot(self.gamma, self.asset_allocation[self.t]) # current profit only\n",
        "    self.profitslist.append(self.profit) # profit per step in a list\n",
        "    self.portfolio_value[self.t+1] = self.portfolio_value[self.t] * self.profit\n",
        "\n",
        "    pass\n",
        "\n",
        "## get current ETF share prices\n",
        "  def _get_observation(self):\n",
        "    return np.array([self.etf_hist_df.iloc[self.episode_start + self.t - self.observation_length : self.episode_start + self.t, :]]) \n",
        "\n",
        "## change in PF value\n",
        "  def _get_reward(self):\n",
        "    #return (self.portfolio_value[self.t] - self.portfolio_value[self.t-1]) / self.portfolio_value[self.t-1]\n",
        "    return self.profit\n"
      ],
      "metadata": {
        "id": "LTgLy5VqrjdG"
      },
      "execution_count": null,
      "outputs": []
    },
    {
      "cell_type": "markdown",
      "source": [
        "## Equal weight heuristic as a benchmark"
      ],
      "metadata": {
        "id": "G0VsLW97jOdR"
      }
    },
    {
      "cell_type": "code",
      "source": [
        "## environment input parameters\n",
        "number_of_episodes_bm = 1\n",
        "episode_length_bm = 1245 # total number of days: 1285\n",
        "observation_length_bm = 40\n",
        "\n",
        "## instantiation of the Environment class\n",
        "equalw_env = Environment(etf_hist_df, episode_length_bm, observation_length_bm)\n",
        "\n",
        "\n",
        "\n",
        "#observation : list = []\n",
        "#reward : float = 0\n",
        "#episode_over : bool = False\n",
        "#info : dict = {}\n",
        "\n",
        "\n",
        "\n",
        "def run_episode():\n",
        "  #episode_start = env._rng(low = observation_length, high = etf_hist_df.shape[0] - episode_length) # determine start day within dataset\n",
        "  episode_start = observation_length_bm\n",
        "  episode_end = episode_start + episode_length_bm # determine end day with episode length\n",
        "  equalw_env._reset(episode_start, episode_end)\n",
        "  ##cumulative_reward = 0\n",
        "  ##print(\"start at day: \" + str(episode_start))\n",
        "  for _ in range(episode_length_bm):\n",
        "    \n",
        "    #action = np.ones(shape = 6)\n",
        "    action = np.array([1/6, 1/6, 1/6, 1/6, 1/6, 1/6]).astype(float) ## asset allocation weights / to test different weights\n",
        "    observation, reward, episode_over, info = equalw_env._step(action)\n",
        "    ##cumulative_reward += reward\n",
        "    ##print(reward) ## debugging\n",
        "    #print(action)\n",
        "    ##print(equalw_env.portfolio_value)\n",
        "  \n",
        "  final_portfolio_value_bm = equalw_env.portfolio_value[equalw_env.t-1]\n",
        "\n",
        "  #print(\"cum. reward after step \" + str(env.t) + \": \" + str(cumulative_reward))\n",
        "  print(\"final portfolio value: \" + str(final_portfolio_value_bm)) ## this is only a multiplier \n",
        "\n",
        "\n",
        "\n",
        "run_episode()\n",
        "\n",
        "#"
      ],
      "metadata": {
        "colab": {
          "base_uri": "https://localhost:8080/"
        },
        "id": "VBUaFXUhpuad",
        "outputId": "855b24fc-4744-4097-9bb8-eb19c817b7ae"
      },
      "execution_count": null,
      "outputs": [
        {
          "output_type": "stream",
          "name": "stdout",
          "text": [
            "final portfolio value: 1.0904620714294655\n"
          ]
        }
      ]
    },
    {
      "cell_type": "code",
      "source": [
        "plt.plot(equalw_env.portfolio_value)"
      ],
      "metadata": {
        "colab": {
          "base_uri": "https://localhost:8080/",
          "height": 283
        },
        "id": "_SEWHAY2Hv8p",
        "outputId": "1172057b-2af9-4f3c-be5a-eab9ecdb2603"
      },
      "execution_count": null,
      "outputs": [
        {
          "output_type": "execute_result",
          "data": {
            "text/plain": [
              "[<matplotlib.lines.Line2D at 0x7f76fc26b400>]"
            ]
          },
          "metadata": {},
          "execution_count": 89
        },
        {
          "output_type": "display_data",
          "data": {
            "text/plain": [
              "<Figure size 432x288 with 1 Axes>"
            ],
            "image/png": "[encoded data removed]"
          },
          "metadata": {
            "needs_background": "light"
          }
        }
      ]
    },
    {
      "cell_type": "markdown",
      "source": [
        "FinRL API: https://finrl.readthedocs.io/en/latest/tutorial/Introduction/PortfolioAllocation.html"
      ],
      "metadata": {
        "id": "EGl48MEncBVh"
      }
    },
    {
      "cell_type": "markdown",
      "source": [
        "Multiple stock trading environment: https://finrl.readthedocs.io/en/latest/tutorial/Introduction/MultipleStockTrading.html"
      ],
      "metadata": {
        "id": "pCm8Q-s-dJ83"
      }
    },
    {
      "cell_type": "code",
      "source": [
        "##!pip install git+https://github.com/AI4Finance-Foundation/FinRL.git\n",
        "##!pip install git+https://github.com/AI4Finance-LLC/FinRL-Library.git"
      ],
      "metadata": {
        "id": "F_Y0avutV98d"
      },
      "execution_count": null,
      "outputs": []
    },
    {
      "cell_type": "markdown",
      "source": [
        "latest FinRL tutorial: https://medium.com/analytics-vidhya/a-hitchhikers-guide-to-finrl-a-deep-reinforcement-learning-framework-for-quantitative-finance-e624c508f763"
      ],
      "metadata": {
        "id": "SpGpGoPOtU05"
      }
    },
    {
      "cell_type": "markdown",
      "source": [
        "## RL theory part about actor critic algorithms\n",
        "\n",
        "Approximated policy gradient including the learned actor function and the learned critic function: (policy weight update)\n",
        "$ \\Delta_{\\theta} = \\alpha \\nabla_{\\theta} log \\underbrace{\\pi(s,a;\\theta)}_{\\text{policy function of the actor}} * \\underbrace{Q(s,a;w)}_{\\text{Q-function of the critic}} $"
      ],
      "metadata": {
        "id": "fIInAI967TTp"
      }
    },
    {
      "cell_type": "markdown",
      "source": [
        "pseudo code of QAC (rough summary):\n",
        "\n",
        "\n",
        "*   Initialize policy and Q-function weights $\\theta$, w  \n",
        "Repeat for each episode:  \n",
        "*   sample action from policy $\\pi$\n",
        "*   take action a, observe r, s'\n",
        "*   sample a' acc. to policy $\\pi$(s',$\\cdot$,$\\theta$)\n",
        "*   policy weight update theta \n",
        "*   Q-function weight update w \n",
        "*   a $\\leftarrow$ a', s $\\leftarrow$ s'  \n",
        "until s is terminal\n",
        "\n"
      ],
      "metadata": {
        "id": "c1K2ssnv8qje"
      }
    },
    {
      "cell_type": "markdown",
      "source": [
        "## Implement DRL algorithm"
      ],
      "metadata": {
        "id": "4x9tbAytCuIE"
      }
    },
    {
      "cell_type": "markdown",
      "source": [
        "https://theaisummer.com/Actor_critics/"
      ],
      "metadata": {
        "id": "o3kxET9dog_J"
      }
    },
    {
      "cell_type": "markdown",
      "source": [
        "**Background (actor critic policy-based algorithms):**\n",
        "\n",
        "**actor:** The actor takes as input the state and outputs the best action. It essentially controls how the agent behaves by learning the optimal policy\n",
        "\n",
        "**critic:** The critic, on the other hand, evaluates the action by computing the value function (value based).   \n",
        "The critic which receives as an input the environment and the action by the actor, concatenates them and outputs the action value (Q-value) for the given pair (Q-value = maximum future reward)\n",
        "\n",
        "**training:** the actor NN and the critic NN are trained separately by gradient ascent (Compute steepest uphill direction = gradient;\n",
        "Take step in the gradient direction\n",
        "Repeat (until held-out data accuracy starts to drop = “early stopping”))\n",
        "\n",
        "find a global maximum and update both the policy weights theta and the value function estimate weights w\n",
        "\n",
        "It is important to notice that *the update of the weights happen at each step (TD Learning)* and not at the end of the episode, opposed to policy gradient"
      ],
      "metadata": {
        "id": "V-en_4YoiqWt"
      }
    },
    {
      "cell_type": "markdown",
      "source": [
        "**Portfolio Mgt application case:** \n",
        "\n",
        "input for the actor: state = portfolio value;\n",
        "ouput of the actor: best action = optimal asset allocation weights\n",
        "\n",
        "input for the critic: portfolio weights from the actor + environment i.e. the prices of the 6 assets in the portfolio at the current time step\n",
        "output of the critic: Q-value (s,a) for time t\n"
      ],
      "metadata": {
        "id": "8BDhP0uZjRZJ"
      }
    },
    {
      "cell_type": "markdown",
      "source": [
        "**Advantage Actor critic:**   \n",
        "the advantage function A(s,a) = Q(s,a) - V(s) <-> Q(s,a) = A(s,a)+V(s) captures how much better an action is compared to other actions in a given state s\n",
        "\n",
        "the value function V(s) captures how good it is to be in particular state (\"state value function\")\n",
        "\n",
        "**modification:** the critic learns advantage-values instead of Q-values. That way the evaluation of an action is based not only on how good the action is, but also how much better it can be."
      ],
      "metadata": {
        "id": "bG17sU5KlgIk"
      }
    },
    {
      "cell_type": "markdown",
      "source": [
        "## Actor Critic in Pytorch"
      ],
      "metadata": {
        "id": "sEokPhublTGB"
      }
    },
    {
      "cell_type": "markdown",
      "source": [
        "Actor Critic Algorithm (Pytorch)\n",
        "\n",
        "source: https://github.com/pytorch/examples/blob/main/reinforcement_learning/actor_critic.py\n",
        "\n",
        "Pytorch actor critic algo applied to PF Mgt: https://github.com/MatthieuSarkis/Portfolio-Optimization-and-Goal-Based-Investment-with-Reinforcement-Learning/blob/master/src/main.py"
      ],
      "metadata": {
        "id": "RqY0dIhE30fi"
      }
    },
    {
      "cell_type": "markdown",
      "source": [
        "Gym is an open source Python library for developing and comparing reinforcement learning algorithms by providing a standard API to communicate between learning algorithms and environments, as well as a standard set of environments compliant with that API. Since its release, Gym's API has become the field standard for doing this."
      ],
      "metadata": {
        "id": "7MBDvna1z52b"
      }
    },
    {
      "cell_type": "markdown",
      "source": [
        "useful repos to base our model on:  \n",
        "https://github.com/philtabor/Youtube-Code-Repository/blob/master/ReinforcementLearning/PolicyGradient/SAC/sac_torch.py\n",
        "\n",
        "https://github.com/yc930401/Actor-Critic-pytorch/blob/master/Actor-Critic.py\n",
        "\n",
        "https://github.com/kvsnoufal/portfolio-optimization/blob/main/train.py\n",
        "\n",
        "A2C: https://github.com/mswang12/minA2C/blob/main/minA2C.py"
      ],
      "metadata": {
        "id": "OBMofNGoQI0g"
      }
    },
    {
      "cell_type": "markdown",
      "source": [
        "Current to dos\n",
        "\n",
        "1. find out why Q-value and action (state-action-pair) does not change over time within an episode --> done!\n",
        "\n",
        "2. finetuning:\n",
        "\n",
        "- batch normalisation\n",
        "- convolutional layer\n",
        "- learning rate\n",
        "- activation leaky relu\n",
        "- dropout\n",
        "- layer size (number of neurons)\n",
        "- weight initialisation xavier\n",
        "- exploration/exploitation (epsilon-greedy?)\n",
        "\n",
        "3. Benchmarking\n",
        "\n",
        "- theory and practice\n",
        "\n",
        "4. experiments and conclusion"
      ],
      "metadata": {
        "id": "b88y-NJzSmWC"
      }
    },
    {
      "cell_type": "markdown",
      "source": [
        "mini CNN classification net architecture:\n",
        "\n",
        "\n",
        "\n",
        "```\n",
        "class Net(nn.Module):\n",
        "    def __init__(self):\n",
        "        super(Net, self).__init__()\n",
        "        self.conv1 = nn.Conv2d(in_channels=1, out_channels=10,\n",
        "                               kernel_size=5,\n",
        "                               stride=1)\n",
        "        self.conv2 = nn.Conv2d(10, 20, kernel_size=5)\n",
        "        self.conv2_bn = nn.BatchNorm2d(20)\n",
        "        self.dense1 = nn.Linear(in_features=320, out_features=50)\n",
        "        self.dense1_bn = nn.BatchNorm1d(50)\n",
        "        self.dense2 = nn.Linear(50, 10)\n",
        "\n",
        "    def forward(self, x):\n",
        "        x = F.relu(F.max_pool2d(self.conv1(x), 2))\n",
        "        x = F.relu(F.max_pool2d(self.conv2_bn(self.conv2(x)), 2))\n",
        "        x = x.view(-1, 320) #reshape\n",
        "        x = F.relu(self.dense1_bn(self.dense1(x)))\n",
        "        x = F.relu(self.dense2(x))\n",
        "        return F.log_softmax(x)\n",
        "```\n",
        "\n"
      ],
      "metadata": {
        "id": "JTZX7RRkkZN0"
      }
    },
    {
      "cell_type": "markdown",
      "source": [
        "\n",
        "\n",
        "```\n",
        "# nn.Sequential version of the current actor NN with batchnorm\n",
        "\n",
        "p=0.2\n",
        "\n",
        "model = nn.Sequential(nn.Linear(self.state_size + self.action_size, 100), # use convolutional layers\n",
        "                      nn.BatchNorm1d(100), # test (always apply BN before the non-linearity; faster convergence, higher LR possible)\n",
        "                      nn.ReLU(),\n",
        "                      nn.Dropout(p),\n",
        "                      nn.Linear(100, 20),\n",
        "                      nn.ReLU(),\n",
        "                      nn.Dropout(0.2),\n",
        "                      nn.Linear(20, self.action_size), # 6 output neurons  for the 6 positions\n",
        "                      torch.sigmoid(),\n",
        "                    ##  torch.mul(distribution, 1/torch.sum(distribution))\n",
        "                     )\n",
        "\n",
        "\n",
        "```\n",
        "\n",
        "\n"
      ],
      "metadata": {
        "id": "CpwncUblC4p4"
      }
    },
    {
      "cell_type": "code",
      "source": [
        "# standard deviations\n",
        "from operator import add, sub\n",
        "import math\n",
        "\n",
        "def stdev(data):\n",
        "    var = variance(data)\n",
        "    std_dev = math.sqrt(var)\n",
        "    return std_dev\n",
        "\n",
        "def variance(data, ddof=0):\n",
        "    n = len(data)\n",
        "    mean = sum(data) / n\n",
        "    return sum((x - mean) ** 2 for x in data) / (n - ddof)\n",
        "\n"
      ],
      "metadata": {
        "id": "fcexUpW1uEFA"
      },
      "execution_count": null,
      "outputs": []
    },
    {
      "cell_type": "code",
      "source": [
        "## defining a leaky ReLU activation function\n",
        "from torch.nn import LeakyReLU\n",
        "m = nn.LeakyReLU(0.1) # negative slope: 0.1"
      ],
      "metadata": {
        "id": "TLeI9RLm8fqt"
      },
      "execution_count": null,
      "outputs": []
    },
    {
      "cell_type": "code",
      "source": [
        "\n",
        "## Actor Critic RL model\n",
        "\n",
        "import gym, os\n",
        "from itertools import count\n",
        "import torch\n",
        "import torch.nn as nn\n",
        "import torch.optim as optim\n",
        "import torch.nn.functional as F\n",
        "from torch.distributions import Categorical\n",
        "\n",
        "\n",
        "#device = \"cuda\"\n",
        "\n",
        "device = torch.device(\"cuda\" if torch.cuda.is_available() else \"cpu\")\n",
        "\n",
        "number_of_experiments = 1 # 1 experiment = xx episodes. New experiment = new initialised neural networks\n",
        "\n",
        "## environment input parameters\n",
        "number_of_episodes = 40\n",
        "episode_length = 1245 # total number of days: 1285\n",
        "observation_length = 40\n",
        "\n",
        "## hyperparameters ##\n",
        "\n",
        "n_iters = number_of_episodes ## no. of episodes\n",
        "lr = 0.0001 ## learning rate (initially at lr = 0.0001)\n",
        "gamma = 0.98  ## discount rate\n",
        "\n",
        "\n",
        "## inputs for the actor critic algorithm ##\n",
        "\n",
        "#env = pf_env  ## PF environment\n",
        "##env = gym.make(\"CartPole-v0\").unwrapped\n",
        "##state_size = pf_env.observation_space.shape[1]\n",
        "action_size = etf_hist_df.shape[1] # 6\n",
        "state_size = observation_length * etf_hist_df.shape[1] ## currently 240 = 40*6\n",
        "\n",
        "env = Environment(etf_hist_df, episode_length, observation_length) #initialize environment\n",
        "\n",
        "print(action_size), print(state_size) ## debugging\n",
        "##rewards = pf_env.reward  ## to do: can't access _get_reward method from environment\n",
        "\n",
        "\n",
        "## actor learns the best action in a given state; input: state i.e. actor lears a policy (state-action mapping)\n",
        "## theta: parametrized policy weights\n",
        "class Actor(nn.Module): \n",
        "    def __init__(self, state_size, action_size):\n",
        "        super(Actor, self).__init__()\n",
        "        self.state_size = state_size\n",
        "        self.action_size = action_size\n",
        "        self.linear1 = nn.Linear(self.state_size, 200)\n",
        "        ##self.bnlinear1 = nn.Sequential(nn.Linear(self.state_size, 100), ## addon (permits higher LR + less careful init)\n",
        "        ##                               nn.BatchNorm1d(100),\n",
        "        ##                               nn.ReLU()\n",
        "        ##                               ) \n",
        "        self.linear2 = nn.Linear(200, 20)\n",
        "        self.bn = nn.BatchNorm1d(20) ## addon \n",
        "        self.dropout = nn.Dropout(0.2) ## addon (regularization; dropout pr 0.2)\n",
        "        self.linear3 = nn.Linear(20, self.action_size)\n",
        "\n",
        "    def forward(self, state):\n",
        "        ##output = F.relu(self.linear1(state))\n",
        "        output = m(self.linear1(state))\n",
        "        ##output = self.bnlinear1(state) ## change attempt\n",
        "        ##output = F.relu(self.linear2(output))\n",
        "        output = m(self.linear2(output))\n",
        "        ##output = self.bn(self.linear2(output.view(-1,20)))    ## change\n",
        "        ##output = F.relu(output) ## change\n",
        "        ##output = self.dropout(output) ## change\n",
        "        output = self.linear3(output)\n",
        "        #distribution = Categorical(F.softmax(output, dim=-1))\n",
        "        #distribution = F.softmax(output, dim=-1)\n",
        "        distribution = torch.sigmoid(output)#.detach().numpy().astype(float)\n",
        "        distribution = torch.mul(distribution, 1/torch.sum(distribution)) # normalise array so that sum = 1\n",
        "        return distribution #distribution\n",
        "\n",
        "## new actor class with nn.Sequential()\n",
        "#class Actor(nn.Module): \n",
        "#    def __init__(self, state_size, action_size):\n",
        "#         super(Actor, self).__init__()\n",
        "#         self.state_size = state_size\n",
        "#         self.action_size = action_size\n",
        "#         self.net = nn.Sequential(nn.Linear(self.state_size, 100), # use convolutional layers\n",
        "#                      nn.BatchNorm1d(100), # test (always apply BN before the non-linearity; faster convergence, higher LR possible)\n",
        "#                      nn.ReLU(),\n",
        "#                      nn.Dropout(0.2),\n",
        "#                      nn.Linear(100, 20),\n",
        "#                      nn.ReLU(),\n",
        "#                      nn.Dropout(0.2),\n",
        "#                      nn.Linear(20, self.action_size), # 6 output neurons  for the 6 positions\n",
        "#                   \n",
        "#                     )\n",
        "#             \n",
        "#    def forward(self, state_size):\n",
        "#        x = self.net(state_size)\n",
        "#        distribution = torch.sigmoid(x)#.detach().numpy().astype(float)\n",
        "#        distribution = torch.mul(distribution, 1/torch.sum(distribution)) # normalise array so that sum = 1\n",
        "#        return distribution #distribution\n",
        "        \n",
        "\n",
        "## critic evaluates action by learning Q-value Q(s,a) or Advantage-value A(s,a) ; input: action (weights), environment (current prices)\n",
        "## value function estimate weights w\n",
        "class Critic(nn.Module): \n",
        "    def __init__(self, state_size, action_size):\n",
        "        super(Critic, self).__init__()\n",
        "        self.state_size = state_size\n",
        "        self.action_size = action_size\n",
        "        self.linear1 = nn.Linear(self.state_size + self.action_size, 200)\n",
        "        self.linear2 = nn.Linear(200, 10)\n",
        "        self.dropout = nn.Dropout(0.2) ## addon (regularization; dropout pr 0.2)\n",
        "        self.linear3 = nn.Linear(10, 1)\n",
        "\n",
        "    def forward(self, state_action_pair):\n",
        "        ##output = F.relu(self.linear1(state_action_pair))\n",
        "        output = m(self.linear1(state_action_pair))\n",
        "        ##output = F.relu(self.linear2(output))\n",
        "        output = m(self.linear2(output))\n",
        "        #output = self.dropout(output) ## change\n",
        "        value = self.linear3(output)\n",
        "        return value\n",
        "\n",
        "\n",
        "def compute_returns(next_value, rewards, masks, gamma=0.99): ## to do: use rewards defined in the PF environment\n",
        "    R = next_value\n",
        "    returns = []\n",
        "    for step in reversed(range(len(rewards))):\n",
        "        R = rewards[step] + gamma * R * masks[step] ## masks?\n",
        "        returns.insert(0, R)\n",
        "    return returns\n",
        "\n",
        "def prepare_state(state, input_shape): ## added by Marc\n",
        "  # this needs a numpy array as input to work\n",
        "  state = torch.Tensor(state.astype(float))\n",
        "  state = state.reshape([1, input_shape]) \n",
        "  return state\n",
        "\n",
        "\n",
        "\n",
        "## AGENT ##\n",
        "\n",
        "# CNN architectures\n",
        "\n",
        "##def trainIters(CNN_Actor, CNN_Critic, n_iters):\n",
        "##    optimizerA = optim.Adam(CNN_Actor.parameters(), lr=lr) # optimization algorithm (ADAM) for the actor NN\n",
        "##    optimizerC = optim.Adam(CNN_Critic.parameters(), lr=lr) # optimization algorithm (ADAM) for the critic NN\n",
        "\n",
        "# feedwordward architectures\n",
        "\n",
        "def trainIters(actor, critic, n_iters):\n",
        "    optimizerA = optim.Adam(actor.parameters(), lr=lr) # optimization algorithm (ADAM) for the actor NN\n",
        "    optimizerC = optim.Adam(critic.parameters(), lr=lr) # optimization algorithm (ADAM) for the critic NN\n",
        "    \n",
        "    final_portfolio_values = []\n",
        "\n",
        "    mean_profits_episode = []\n",
        "\n",
        "    std_profits_episode = []\n",
        "\n",
        "# loop over the total number of episodes\n",
        "    \n",
        "    for iter in range(n_iters):\n",
        "        #episode_start = env._rng(low = observation_length, high = etf_hist_df.shape[0] - episode_length) # determine start day within dataset\n",
        "        episode_start = observation_length\n",
        "        episode_end = episode_start + episode_length # determine end day with episode length\n",
        "        env._reset(episode_start, episode_end)\n",
        "        \n",
        "        #state = env._reset() ## here the current PF value (=state) should be inserted\n",
        "        state = etf_hist_df.iloc[episode_start - observation_length : episode_start, :].to_numpy()\n",
        "        action = env.asset_allocation[0, :]\n",
        "        state_action_pair = np.append(state, action)\n",
        "        \n",
        "        state = prepare_state(state, state_size) ## added by Marc\n",
        "        state_action_pair = prepare_state(state_action_pair, state_size + action_size)\n",
        "        \n",
        "\n",
        "        log_probs = []\n",
        "        values = []\n",
        "        rewards = [] ## reward = change in PF value\n",
        "        masks = []\n",
        "        entropy = 0\n",
        "        #env.reset()\n",
        "        \n",
        "    \n",
        "        \n",
        "\n",
        "## main loop trough one episode\n",
        "        for i in range(episode_length):\n",
        "            ##env.render() ## not implemented\n",
        "            #print(state) ## debugging\n",
        "            #state = torch.FloatTensor(state).to(device) ## state contains none object -> issue\n",
        "            dist, value = actor(state), critic(state_action_pair)\n",
        "            #print(value)\n",
        "            #print(\"Q-value: \" + value.detach().numpy().astype(float))\n",
        "\n",
        "            #action = dist.sample(sample_shape=torch.Size([6]))\n",
        "            action = dist.detach().numpy().astype(float)[0]\n",
        "            dist = Categorical(dist)\n",
        "            \n",
        "            next_state, reward, done, _ = env._step(action) ## rewards?\n",
        "            next_state = prepare_state(next_state, state_size)\n",
        "\n",
        "            #torch.as_tensor(action)\n",
        "            log_prob = dist.log_prob(dist.sample()).unsqueeze(0)\n",
        "            entropy += dist.entropy().mean()\n",
        "\n",
        "            log_probs.append(log_prob)\n",
        "            values.append(value)\n",
        "            \n",
        "            rewards.append(torch.tensor([reward], dtype=torch.float, device=device))\n",
        "            masks.append(torch.tensor([1-done], dtype=torch.float, device=device))\n",
        "\n",
        "            if done:\n",
        "                print(\"episode: \" + str(iter) + \", final portfolio value: \" + str(env.portfolio_value[env.t]))\n",
        "                print(\"final action: \" + str(action))\n",
        "                ##print(\"episode: \" + str(iter) + \"mean_episode return\" + str(mean_profits_episode) )\n",
        "                \n",
        "                #print('Episode: {}, Step within episode: {}'.format(iter, i))\n",
        "                final_portfolio_values.append(env.portfolio_value[env.t]) # PF value to plot -> To Do. compute by episode\n",
        "\n",
        "                ##mean_profits_episode.append(np.mean(env.profitslist))\n",
        "                ##print(mean_profits_episode) \n",
        "\n",
        "                ##std_profits_episode.append(round(stdev(env.profitslist),4))\n",
        "                ##print(std_profits_episode)\n",
        "\n",
        "                # addition/subtraction of list elements (elementwise)\n",
        "                ##std_up_mnb = list( map(add, mean_profits_episode, std_profits_episode) )\n",
        "                ##std_down_mnb = list( map(sub, mean_profits_episode, std_profits_episode) )\n",
        "                # syntax: fill_between(x,y1,y2,...)\n",
        "        \n",
        "                \n",
        "                break\n",
        "\n",
        "            # prepare next state action pair for critic\n",
        "            action_tensor = torch.FloatTensor(action).to(device).reshape([1, action_size])\n",
        "            next_state_action_pair = torch.cat((next_state, action_tensor), dim=1)\n",
        "\n",
        "            state = next_state\n",
        "            state_action_pair = next_state_action_pair\n",
        "\n",
        "            next_state = torch.FloatTensor(next_state).to(device)\n",
        "            next_state = next_state.reshape([1, state_size])\n",
        "\n",
        "            \n",
        "        \n",
        "        # at every end of an episode\n",
        "        next_value = critic(next_state_action_pair)\n",
        "        returns = compute_returns(next_value, rewards, masks,gamma=gamma)\n",
        "\n",
        "        log_probs = torch.cat(log_probs)\n",
        "        returns = torch.cat(returns).detach()\n",
        "        values = torch.cat(values)\n",
        "\n",
        "        advantage = returns - values ## advantage function definition\n",
        "\n",
        "        actor_loss = -(log_probs * advantage.detach()).mean()  ## actor loss to learn policy (policy gradient*Advantage estimate); gradient ascent (min of a neg. function)\n",
        "        critic_loss = advantage.pow(2).mean() ## critic loss to learn Q-value/Advantayge value (Advantage estimate)\n",
        "\n",
        "        optimizerA.zero_grad()\n",
        "        optimizerC.zero_grad()\n",
        "        actor_loss.backward()\n",
        "        critic_loss.backward()\n",
        "        optimizerA.step()\n",
        "        optimizerC.step()\n",
        "    #torch.save(actor, 'model/actor.pkl') ## saving the models to pickle\n",
        "    #torch.save(critic, 'model/critic.pkl')\n",
        "    #env.close()\n",
        "\n",
        "\n",
        "\n",
        "\n",
        "        \n",
        "\n",
        "        if iter == n_iters-1: # \n",
        "\n",
        "          plt.plot(final_portfolio_values)\n",
        "          plt.title(\"Final portfolio values\")\n",
        "          plt.savefig(\"final_portfolio_values.png\")\n",
        "\n",
        "          # plotting the mean profits with a stddev band\n",
        "          ##plt.plot(mean_profits_episode)\n",
        "          #plt.fill_between(mean_profits_episode, std_up_mnb, std_down_mnb, color='C0', alpha=0.5)\n",
        "          \n",
        "          #plt.title(\"Mean profits episode\")\n",
        "          ##plt.xlabel('Percentage of all features included (in %)')\n",
        "          ##plt.ylabel('Predictive model accuracy')\n",
        "          ##plt.savefig(\"mean_profits_episode_with_stddev.png\")\n",
        "          \n",
        "## TO DO: plot mean rewards per episode with std.dev. bands          \n",
        "\n",
        "if __name__ == '__main__':\n",
        "\n",
        "    for experiment_number in range(number_of_experiments):\n",
        "      if os.path.exists('model/actor.pkl'):\n",
        "          actor = torch.load('model/actor.pkl')\n",
        "          print('Actor Model loaded')\n",
        "      else:\n",
        "          actor = Actor(state_size, action_size).to(device)\n",
        "      if os.path.exists('model/critic.pkl'):\n",
        "          critic = torch.load('model/critic.pkl')\n",
        "          print('Critic Model loaded')\n",
        "      else:\n",
        "          critic = Critic(state_size, action_size).to(device)\n",
        "\n",
        "      trainIters(actor, critic, n_iters)\n"
      ],
      "metadata": {
        "colab": {
          "base_uri": "https://localhost:8080/",
          "height": 1000
        },
        "id": "81io1AD6nnhE",
        "outputId": "f514c7ce-ca42-4bf6-b8b6-360bd339e8cc"
      },
      "execution_count": null,
      "outputs": [
        {
          "output_type": "stream",
          "name": "stdout",
          "text": [
            "6\n",
            "240\n",
            "episode: 0, final portfolio value: 1.1586395965375795\n",
            "final action: [0.26337851 0.00123122 0.00566124 0.26768134 0.19456197 0.26748572]\n",
            "episode: 1, final portfolio value: 1.1544463796810311\n",
            "final action: [0.24715566 0.00090984 0.00495039 0.25453728 0.23804828 0.25439855]\n",
            "episode: 2, final portfolio value: 1.1504504227663825\n",
            "final action: [0.24095307 0.00087207 0.00809943 0.25334508 0.24361704 0.25311331]\n",
            "episode: 3, final portfolio value: 1.1452998221101007\n",
            "final action: [0.24542875 0.00056752 0.00636822 0.25436347 0.23917067 0.25410136]\n",
            "episode: 4, final portfolio value: 1.1565666773867203\n",
            "final action: [0.24805524 0.00036948 0.00241748 0.26203796 0.2254534  0.26166644]\n",
            "episode: 5, final portfolio value: 1.1740000068542646\n",
            "final action: [2.62078615e-01 2.51831081e-04 9.39702623e-04 2.82903942e-01\n",
            " 1.71572254e-01 2.82253655e-01]\n",
            "episode: 6, final portfolio value: 1.192499720810709\n",
            "final action: [2.79767277e-01 1.47682020e-04 5.31294386e-04 3.18343110e-01\n",
            " 8.48889597e-02 3.16321677e-01]\n",
            "episode: 7, final portfolio value: 1.2006242697984355\n",
            "final action: [2.79730011e-01 7.58320428e-05 3.32233687e-04 3.45951842e-01\n",
            " 3.33917687e-02 3.40518312e-01]\n",
            "episode: 8, final portfolio value: 1.197131980209779\n",
            "final action: [2.86299265e-01 4.42168140e-05 2.24110370e-04 3.59876521e-01\n",
            " 8.18195026e-03 3.45373936e-01]\n",
            "episode: 9, final portfolio value: 1.1887001294740762\n",
            "final action: [3.05301286e-01 3.04126177e-05 2.15184269e-04 3.56761285e-01\n",
            " 3.33646949e-03 3.34355362e-01]\n",
            "episode: 10, final portfolio value: 1.1804500995745153\n",
            "final action: [3.25070872e-01 2.06912890e-05 2.88202908e-04 3.55790985e-01\n",
            " 1.46215740e-03 3.17367091e-01]\n",
            "episode: 11, final portfolio value: 1.177557636708114\n",
            "final action: [3.42894071e-01 1.40768689e-05 3.87169651e-04 3.64273156e-01\n",
            " 6.94278209e-04 2.91737249e-01]\n",
            "episode: 12, final portfolio value: 1.1742003698288592\n",
            "final action: [3.51373915e-01 1.07714596e-05 4.13591623e-04 3.65391526e-01\n",
            " 3.83711159e-04 2.82426485e-01]\n",
            "episode: 13, final portfolio value: 1.1727519773876192\n",
            "final action: [3.64411293e-01 8.16632652e-06 4.75075589e-04 3.74567865e-01\n",
            " 2.07728240e-04 2.60329872e-01]\n",
            "episode: 14, final portfolio value: 1.1713376874585355\n",
            "final action: [3.65732110e-01 6.59771971e-06 4.36070609e-04 3.72843212e-01\n",
            " 1.25308149e-04 2.60856701e-01]\n",
            "episode: 15, final portfolio value: 1.1702940428472521\n",
            "final action: [3.69440119e-01 5.38780903e-06 4.24247655e-04 3.74627661e-01\n",
            " 7.63492011e-05 2.55426235e-01]\n",
            "episode: 16, final portfolio value: 1.1692556101929834\n",
            "final action: [3.65224126e-01 4.64074041e-06 3.82286296e-04 3.68878636e-01\n",
            " 5.17542508e-05 2.65458556e-01]\n",
            "episode: 17, final portfolio value: 1.1669629756613842\n",
            "final action: [3.52195476e-01 4.31474979e-06 2.71694243e-04 3.54695176e-01\n",
            " 3.98825947e-05 2.92793457e-01]\n",
            "episode: 18, final portfolio value: 1.1644956959493782\n",
            "final action: [3.43457422e-01 4.14885451e-06 1.92790289e-04 3.45230809e-01\n",
            " 3.25076818e-05 3.11082322e-01]\n",
            "episode: 19, final portfolio value: 1.1627038155811793\n",
            "final action: [3.38561126e-01 4.06392357e-06 1.37817775e-04 3.39876302e-01\n",
            " 2.75777985e-05 3.21393112e-01]\n",
            "episode: 20, final portfolio value: 1.1615659964434553\n",
            "final action: [3.35955403e-01 4.03154617e-06 9.95111161e-05 3.36962840e-01\n",
            " 2.40959265e-05 3.26954118e-01]\n",
            "episode: 21, final portfolio value: 1.1609141752664205\n",
            "final action: [3.34682269e-01 4.00340757e-06 7.42554140e-05 3.35477931e-01\n",
            " 2.13020729e-05 3.29740239e-01]\n",
            "episode: 22, final portfolio value: 1.1605218356155498\n",
            "final action: [3.34022678e-01 3.98151924e-06 5.67644162e-05 3.34664798e-01\n",
            " 1.90446431e-05 3.31232733e-01]\n",
            "episode: 23, final portfolio value: 1.160272733648679\n",
            "final action: [3.33669987e-01 3.96472919e-06 4.42803538e-05 3.34198471e-01\n",
            " 1.72114810e-05 3.32066085e-01]\n",
            "episode: 24, final portfolio value: 1.1601080329168638\n",
            "final action: [3.33472368e-01 3.96401261e-06 3.54011605e-05 3.33917018e-01\n",
            " 1.60773869e-05 3.32555171e-01]\n",
            "episode: 25, final portfolio value: 1.1599940610339141\n",
            "final action: [3.33366384e-01 3.96081374e-06 2.89073813e-05 3.33745917e-01\n",
            " 1.50838241e-05 3.32839747e-01]\n",
            "episode: 26, final portfolio value: 1.1599112477222433\n",
            "final action: [3.33308831e-01 3.95641319e-06 2.40415564e-05 3.33636925e-01\n",
            " 1.42162756e-05 3.33012030e-01]\n",
            "episode: 27, final portfolio value: 1.1598493026586256\n",
            "final action: [3.33277623e-01 3.95100436e-06 2.03159495e-05 3.33564887e-01\n",
            " 1.34630483e-05 3.33119760e-01]\n",
            "episode: 28, final portfolio value: 1.1598024533837128\n",
            "final action: [3.33261126e-01 3.94456394e-06 1.74196881e-05 3.33515727e-01\n",
            " 1.28079780e-05 3.33188975e-01]\n",
            "episode: 29, final portfolio value: 1.1597658480938369\n",
            "final action: [3.33252989e-01 3.93679048e-06 1.51419441e-05 3.33481215e-01\n",
            " 1.22353383e-05 3.33234482e-01]\n",
            "episode: 30, final portfolio value: 1.159736371767613\n",
            "final action: [3.33249679e-01 3.93370409e-06 1.33579193e-05 3.33456358e-01\n",
            " 1.17332308e-05 3.33264938e-01]\n",
            "episode: 31, final portfolio value: 1.1597122622615128\n",
            "final action: [3.33249146e-01 3.94406180e-06 1.19895667e-05 3.33438033e-01\n",
            " 1.12936931e-05 3.33285594e-01]\n",
            "episode: 32, final portfolio value: 1.1596922782514874\n",
            "final action: [3.33250083e-01 3.95340131e-06 1.08646265e-05 3.33424039e-01\n",
            " 1.09086361e-05 3.33300151e-01]\n",
            "episode: 33, final portfolio value: 1.1596756624345208\n",
            "final action: [3.33251808e-01 3.95430576e-06 9.93903920e-06 3.33413188e-01\n",
            " 1.05614637e-05 3.33310549e-01]\n",
            "episode: 34, final portfolio value: 1.1596617187392264\n",
            "final action: [3.33253887e-01 3.95367166e-06 9.16554464e-06 3.33404627e-01\n",
            " 1.02553194e-05 3.33318111e-01]\n",
            "episode: 35, final portfolio value: 1.1596497842870719\n",
            "final action: [3.33256111e-01 3.95357102e-06 8.51658805e-06 3.33397702e-01\n",
            " 9.98506995e-06 3.33323732e-01]\n",
            "episode: 36, final portfolio value: 1.1596395289205845\n",
            "final action: [3.33258350e-01 3.95396033e-06 7.96799733e-06 3.33392073e-01\n",
            " 9.74672790e-06 3.33327909e-01]\n",
            "episode: 37, final portfolio value: 1.1596307072395684\n",
            "final action: [3.33260463e-01 3.95506705e-06 7.50029621e-06 3.33387450e-01\n",
            " 9.53721201e-06 3.33331094e-01]\n",
            "episode: 38, final portfolio value: 1.1596230873567397\n",
            "final action: [3.33262495e-01 3.95684346e-06 7.09957368e-06 3.33383582e-01\n",
            " 9.35282219e-06 3.33333514e-01]\n",
            "episode: 39, final portfolio value: 1.1596164442769141\n",
            "final action: [3.33264332e-01 3.95934152e-06 6.75413404e-06 3.33380353e-01\n",
            " 9.19074977e-06 3.33335411e-01]\n"
          ]
        },
        {
          "output_type": "display_data",
          "data": {
            "text/plain": [
              "<Figure size 432x288 with 1 Axes>"
            ],
            "image/png": "[encoded data removed]"
          },
          "metadata": {
            "needs_background": "light"
          }
        }
      ]
    },
    {
      "cell_type": "code",
      "source": [
        "# plot vs benchmark\n",
        "plt.plot(env.portfolio_value, color=\"green\",label='agent')\n",
        "plt.plot(equalw_env.portfolio_value, color=\"blue\", label='equal weight heuristic')\n",
        "##plt.title(\"agent vs benchmark heuristic\")\n",
        "plt.legend()\n",
        "plt.ylabel(\"portfolio value\")\n",
        "plt.xlabel(\"time steps (trading days)\")\n",
        "plt.savefig(\"agent_vs_benchmark.png\")"
      ],
      "metadata": {
        "id": "16-3h4BZGIzO",
        "colab": {
          "base_uri": "https://localhost:8080/",
          "height": 279
        },
        "outputId": "3ab3bbc3-0078-4d74-8f4d-825886473f89"
      },
      "execution_count": null,
      "outputs": [
        {
          "output_type": "display_data",
          "data": {
            "text/plain": [
              "<Figure size 432x288 with 1 Axes>"
            ],
            "image/png": "[encoded data removed]"
          },
          "metadata": {
            "needs_background": "light"
          }
        }
      ]
    },
    {
      "cell_type": "markdown",
      "source": [
        "CNN actor critic"
      ],
      "metadata": {
        "id": "ARwvqaCLl0b3"
      }
    },
    {
      "cell_type": "code",
      "source": [
        "## CNN actor and critic architecture\n",
        "\n",
        "class CNN_Actor(nn.Module):\n",
        "    def __init__(self, state_size, action_size):\n",
        "        super(CNN_Actor, self).__init__()\n",
        "        self.state_size = state_size\n",
        "        self.action_size = action_size\n",
        "        self.conv1 = nn.Conv2d(in_channels=self.state_size, out_channels=10,\n",
        "                               kernel_size=5,\n",
        "                               stride=1)\n",
        "        self.conv2 = nn.Conv2d(10, 20, kernel_size=5)\n",
        "        self.conv2_bn = nn.BatchNorm2d(20)\n",
        "        self.dense1 = nn.Linear(in_features=320, out_features=50)\n",
        "        self.dense1_bn = nn.BatchNorm1d(50)\n",
        "        self.dense2 = nn.Linear(50, self.action_size)\n",
        "\n",
        "    def forward(self, x):\n",
        "        x = m(F.max_pool2d(self.conv1(x), 2))\n",
        "        x = m(F.max_pool2d(self.conv2_bn(self.conv2(x)), 2))\n",
        "        x = x.view(-1, 320) #reshape\n",
        "        x = m(self.dense1_bn(self.dense1(x)))\n",
        "        x = m(self.dense2(x))\n",
        "        distribution = torch.sigmoid(x)#.detach().numpy().astype(float)\n",
        "        distribution = torch.mul(distribution, 1/torch.sum(distribution)) # normalise array so that sum = 1\n",
        "        return distribution #distribution\n",
        "\n",
        "\n",
        "\n",
        "class CNN_Critic(nn.Module):\n",
        "    def __init__(self, state_size, action_size):\n",
        "        super(CNN_Critic, self).__init__()\n",
        "        self.state_size = state_size\n",
        "        self.action_size = action_size\n",
        "        self.conv1 = nn.Conv2d(in_channels=self.state_size + self.action_size, out_channels=10,\n",
        "                               kernel_size=5,\n",
        "                               stride=1)\n",
        "        self.conv2 = nn.Conv2d(10, 20, kernel_size=5)\n",
        "        self.conv2_bn = nn.BatchNorm2d(20)\n",
        "        self.dense1 = nn.Linear(in_features=320, out_features=50)\n",
        "        self.dense1_bn = nn.BatchNorm1d(50)\n",
        "        self.dense2 = nn.Linear(50, self.action_size)\n",
        "\n",
        "    def forward(self, state_action_pair):\n",
        "        x = m(F.max_pool2d(self.conv1(state_action_pair), 2))\n",
        "        x = m(F.max_pool2d(self.conv2_bn(self.conv2(x)), 2))\n",
        "        x = x.view(-1, 320) #reshape\n",
        "        x = m(self.dense1_bn(self.dense1(x)))\n",
        "        value = m(self.dense2(x))\n",
        "        return value\n",
        "\n",
        "\n"
      ],
      "metadata": {
        "id": "RAk6X5Sqz2Zb"
      },
      "execution_count": null,
      "outputs": []
    },
    {
      "cell_type": "code",
      "source": [
        "\n",
        "## CNN Actor Critic RL model\n",
        "\n",
        "import gym, os\n",
        "from itertools import count\n",
        "import torch\n",
        "import torch.nn as nn\n",
        "import torch.optim as optim\n",
        "import torch.nn.functional as F\n",
        "from torch.distributions import Categorical\n",
        "\n",
        "\n",
        "#device = \"cuda\"\n",
        "\n",
        "device = torch.device(\"cuda\" if torch.cuda.is_available() else \"cpu\")\n",
        "\n",
        "number_of_experiments = 1 # 1 experiment = xx episodes. New experiment = new initialised neural networks\n",
        "\n",
        "## environment input parameters\n",
        "number_of_episodes = 40\n",
        "episode_length = 1245 # total number of days: 1285\n",
        "observation_length = 40\n",
        "\n",
        "## hyperparameters ##\n",
        "\n",
        "n_iters = number_of_episodes ## no. of episodes\n",
        "lr = 0.0001 ## learning rate (initially at lr = 0.0001)\n",
        "gamma = 0.98  ## discount rate\n",
        "\n",
        "\n",
        "## inputs for the actor critic algorithm ##\n",
        "\n",
        "#env = pf_env  ## PF environment\n",
        "##env = gym.make(\"CartPole-v0\").unwrapped\n",
        "##state_size = pf_env.observation_space.shape[1]\n",
        "action_size = etf_hist_df.shape[1] # 6\n",
        "state_size = observation_length * etf_hist_df.shape[1] ## currently 240 = 40*6\n",
        "\n",
        "env = Environment(etf_hist_df, episode_length, observation_length) #initialize environment\n",
        "\n",
        "print(action_size), print(state_size) ## debugging\n",
        "##rewards = pf_env.reward  ## to do: can't access _get_reward method from environment\n",
        "\n",
        "\n",
        "## actor learns the best action in a given state; input: state i.e. actor lears a policy (state-action mapping)\n",
        "## theta: parametrized policy weights\n",
        "class Actor(nn.Module): \n",
        "    def __init__(self, state_size, action_size):\n",
        "        super(Actor, self).__init__()\n",
        "        self.state_size = state_size\n",
        "        self.action_size = action_size\n",
        "        self.linear1 = nn.Linear(self.state_size, 200)\n",
        "        ##self.bnlinear1 = nn.Sequential(nn.Linear(self.state_size, 100), ## addon (permits higher LR + less careful init)\n",
        "        ##                               nn.BatchNorm1d(100),\n",
        "        ##                               nn.ReLU()\n",
        "        ##                               ) \n",
        "        self.linear2 = nn.Linear(200, 20)\n",
        "        self.bn = nn.BatchNorm1d(20) ## addon \n",
        "        self.dropout = nn.Dropout(0.2) ## addon (regularization; dropout pr 0.2)\n",
        "        self.linear3 = nn.Linear(20, self.action_size)\n",
        "\n",
        "    def forward(self, state):\n",
        "        ##output = F.relu(self.linear1(state))\n",
        "        output = m(self.linear1(state))\n",
        "        ##output = self.bnlinear1(state) ## change attempt\n",
        "        ##output = F.relu(self.linear2(output))\n",
        "        output = m(self.linear2(output))\n",
        "        ##output = self.bn(self.linear2(output.view(-1,20)))    ## change\n",
        "        ##output = F.relu(output) ## change\n",
        "        ##output = self.dropout(output) ## change\n",
        "        output = self.linear3(output)\n",
        "        #distribution = Categorical(F.softmax(output, dim=-1))\n",
        "        #distribution = F.softmax(output, dim=-1)\n",
        "        distribution = torch.sigmoid(output)#.detach().numpy().astype(float)\n",
        "        distribution = torch.mul(distribution, 1/torch.sum(distribution)) # normalise array so that sum = 1\n",
        "        return distribution #distribution\n",
        "\n",
        "## new actor class with nn.Sequential()\n",
        "#class Actor(nn.Module): \n",
        "#    def __init__(self, state_size, action_size):\n",
        "#         super(Actor, self).__init__()\n",
        "#         self.state_size = state_size\n",
        "#         self.action_size = action_size\n",
        "#         self.net = nn.Sequential(nn.Linear(self.state_size, 100), # use convolutional layers\n",
        "#                      nn.BatchNorm1d(100), # test (always apply BN before the non-linearity; faster convergence, higher LR possible)\n",
        "#                      nn.ReLU(),\n",
        "#                      nn.Dropout(0.2),\n",
        "#                      nn.Linear(100, 20),\n",
        "#                      nn.ReLU(),\n",
        "#                      nn.Dropout(0.2),\n",
        "#                      nn.Linear(20, self.action_size), # 6 output neurons  for the 6 positions\n",
        "#                   \n",
        "#                     )\n",
        "#             \n",
        "#    def forward(self, state_size):\n",
        "#        x = self.net(state_size)\n",
        "#        distribution = torch.sigmoid(x)#.detach().numpy().astype(float)\n",
        "#        distribution = torch.mul(distribution, 1/torch.sum(distribution)) # normalise array so that sum = 1\n",
        "#        return distribution #distribution\n",
        "        \n",
        "\n",
        "## critic evaluates action by learning Q-value Q(s,a) or Advantage-value A(s,a) ; input: action (weights), environment (current prices)\n",
        "## value function estimate weights w\n",
        "class Critic(nn.Module): \n",
        "    def __init__(self, state_size, action_size):\n",
        "        super(Critic, self).__init__()\n",
        "        self.state_size = state_size\n",
        "        self.action_size = action_size\n",
        "        self.linear1 = nn.Linear(self.state_size + self.action_size, 200)\n",
        "        self.linear2 = nn.Linear(200, 10)\n",
        "        self.dropout = nn.Dropout(0.2) ## addon (regularization; dropout pr 0.2)\n",
        "        self.linear3 = nn.Linear(10, 1)\n",
        "\n",
        "    def forward(self, state_action_pair):\n",
        "        ##output = F.relu(self.linear1(state_action_pair))\n",
        "        output = m(self.linear1(state_action_pair))\n",
        "        ##output = F.relu(self.linear2(output))\n",
        "        output = m(self.linear2(output))\n",
        "        #output = self.dropout(output) ## change\n",
        "        value = self.linear3(output)\n",
        "        return value\n",
        "\n",
        "\n",
        "def compute_returns(next_value, rewards, masks, gamma=0.99): ## to do: use rewards defined in the PF environment\n",
        "    R = next_value\n",
        "    returns = []\n",
        "    for step in reversed(range(len(rewards))):\n",
        "        R = rewards[step] + gamma * R * masks[step] ## masks?\n",
        "        returns.insert(0, R)\n",
        "    return returns\n",
        "\n",
        "def prepare_state(state, input_shape): ## added by Marc\n",
        "  # this needs a numpy array as input to work\n",
        "  state = torch.Tensor(state.astype(float))\n",
        "  state = state.reshape([1, input_shape]) \n",
        "  return state\n",
        "\n",
        "\n",
        "\n",
        "## AGENT ##\n",
        "\n",
        "# CNN architectures\n",
        "\n",
        "def trainIters(CNN_Actor, CNN_Critic, n_iters):\n",
        "    optimizerA = optim.Adam(CNN_Actor.parameters(), lr=lr) # optimization algorithm (ADAM) for the actor NN\n",
        "    optimizerC = optim.Adam(CNN_Critic.parameters(), lr=lr) # optimization algorithm (ADAM) for the critic NN\n",
        "\n",
        "# feedwordward architectures\n",
        "\n",
        "##def trainIters(actor, critic, n_iters):\n",
        "##    optimizerA = optim.Adam(actor.parameters(), lr=lr) # optimization algorithm (ADAM) for the actor NN\n",
        "##    optimizerC = optim.Adam(critic.parameters(), lr=lr) # optimization algorithm (ADAM) for the critic NN\n",
        "    \n",
        "    final_portfolio_values = []\n",
        "\n",
        "    mean_profits_episode = []\n",
        "\n",
        "    std_profits_episode = []\n",
        "\n",
        "# loop over the total number of episodes\n",
        "    \n",
        "    for iter in range(n_iters):\n",
        "        #episode_start = env._rng(low = observation_length, high = etf_hist_df.shape[0] - episode_length) # determine start day within dataset\n",
        "        episode_start = observation_length\n",
        "        episode_end = episode_start + episode_length # determine end day with episode length\n",
        "        env._reset(episode_start, episode_end)\n",
        "        \n",
        "        #state = env._reset() ## here the current PF value (=state) should be inserted\n",
        "        state = etf_hist_df.iloc[episode_start - observation_length : episode_start, :].to_numpy()\n",
        "        action = env.asset_allocation[0, :]\n",
        "        state_action_pair = np.append(state, action)\n",
        "        \n",
        "        state = prepare_state(state, state_size) ## added by Marc\n",
        "        state_action_pair = prepare_state(state_action_pair, state_size + action_size)\n",
        "        \n",
        "\n",
        "        log_probs = []\n",
        "        values = []\n",
        "        rewards = [] ## reward = change in PF value\n",
        "        masks = []\n",
        "        entropy = 0\n",
        "        #env.reset()\n",
        "        \n",
        "    \n",
        "        \n",
        "\n",
        "## main loop trough one episode\n",
        "        for i in range(episode_length):\n",
        "            ##env.render() ## not implemented\n",
        "            #print(state) ## debugging\n",
        "            #state = torch.FloatTensor(state).to(device) ## state contains none object -> issue\n",
        "            dist, value = actor(state), critic(state_action_pair)\n",
        "            #print(value)\n",
        "            #print(\"Q-value: \" + value.detach().numpy().astype(float))\n",
        "\n",
        "            #action = dist.sample(sample_shape=torch.Size([6]))\n",
        "            action = dist.detach().numpy().astype(float)[0]\n",
        "            dist = Categorical(dist)\n",
        "            \n",
        "            next_state, reward, done, _ = env._step(action) ## rewards?\n",
        "            next_state = prepare_state(next_state, state_size)\n",
        "\n",
        "            #torch.as_tensor(action)\n",
        "            log_prob = dist.log_prob(dist.sample()).unsqueeze(0)\n",
        "            entropy += dist.entropy().mean()\n",
        "\n",
        "            log_probs.append(log_prob)\n",
        "            values.append(value)\n",
        "            \n",
        "            rewards.append(torch.tensor([reward], dtype=torch.float, device=device))\n",
        "            masks.append(torch.tensor([1-done], dtype=torch.float, device=device))\n",
        "\n",
        "            if done:\n",
        "                print(\"episode: \" + str(iter) + \", final portfolio value: \" + str(env.portfolio_value[env.t]))\n",
        "                print(\"final action: \" + str(action))\n",
        "                ##print(\"episode: \" + str(iter) + \"mean_episode return\" + str(mean_profits_episode) )\n",
        "                \n",
        "                #print('Episode: {}, Step within episode: {}'.format(iter, i))\n",
        "                final_portfolio_values.append(env.portfolio_value[env.t]) # PF value to plot -> To Do. compute by episode\n",
        "\n",
        "                ##mean_profits_episode.append(np.mean(env.profitslist))\n",
        "                ##print(mean_profits_episode) \n",
        "\n",
        "                ##std_profits_episode.append(round(stdev(env.profitslist),4))\n",
        "                ##print(std_profits_episode)\n",
        "\n",
        "                # addition/subtraction of list elements (elementwise)\n",
        "                ##std_up_mnb = list( map(add, mean_profits_episode, std_profits_episode) )\n",
        "                ##std_down_mnb = list( map(sub, mean_profits_episode, std_profits_episode) )\n",
        "                # syntax: fill_between(x,y1,y2,...)\n",
        "        \n",
        "                \n",
        "                break\n",
        "\n",
        "            # prepare next state action pair for critic\n",
        "            action_tensor = torch.FloatTensor(action).to(device).reshape([1, action_size])\n",
        "            next_state_action_pair = torch.cat((next_state, action_tensor), dim=1)\n",
        "\n",
        "            state = next_state\n",
        "            state_action_pair = next_state_action_pair\n",
        "\n",
        "            next_state = torch.FloatTensor(next_state).to(device)\n",
        "            next_state = next_state.reshape([1, state_size])\n",
        "\n",
        "            \n",
        "        \n",
        "        # at every end of an episode\n",
        "        next_value = critic(next_state_action_pair)\n",
        "        returns = compute_returns(next_value, rewards, masks,gamma=gamma)\n",
        "\n",
        "        log_probs = torch.cat(log_probs)\n",
        "        returns = torch.cat(returns).detach()\n",
        "        values = torch.cat(values)\n",
        "\n",
        "        advantage = returns - values ## advantage function definition\n",
        "\n",
        "        actor_loss = -(log_probs * advantage.detach()).mean()  ## actor loss to learn policy (policy gradient*Advantage estimate); gradient ascent (min of a neg. function)\n",
        "        critic_loss = advantage.pow(2).mean() ## critic loss to learn Q-value/Advantayge value (Advantage estimate)\n",
        "\n",
        "        optimizerA.zero_grad()\n",
        "        optimizerC.zero_grad()\n",
        "        actor_loss.backward()\n",
        "        critic_loss.backward()\n",
        "        optimizerA.step()\n",
        "        optimizerC.step()\n",
        "    #torch.save(actor, 'model/actor.pkl') ## saving the models to pickle\n",
        "    #torch.save(critic, 'model/critic.pkl')\n",
        "    #env.close()\n",
        "\n",
        "\n",
        "\n",
        "\n",
        "        \n",
        "\n",
        "        if iter == n_iters-1: # \n",
        "\n",
        "          plt.plot(final_portfolio_values)\n",
        "          plt.title(\"Final portfolio values\")\n",
        "          plt.savefig(\"final_portfolio_values.png\")\n",
        "\n",
        "          # plotting the mean profits with a stddev band\n",
        "          ##plt.plot(mean_profits_episode)\n",
        "          #plt.fill_between(mean_profits_episode, std_up_mnb, std_down_mnb, color='C0', alpha=0.5)\n",
        "          \n",
        "          #plt.title(\"Mean profits episode\")\n",
        "          ##plt.xlabel('Percentage of all features included (in %)')\n",
        "          ##plt.ylabel('Predictive model accuracy')\n",
        "          ##plt.savefig(\"mean_profits_episode_with_stddev.png\")\n",
        "          \n",
        "## TO DO: plot mean rewards per episode with std.dev. bands          \n",
        "\n",
        "if __name__ == '__main__':\n",
        "\n",
        "    for experiment_number in range(number_of_experiments):\n",
        "      if os.path.exists('model/actor.pkl'):\n",
        "          actor = torch.load('model/actor.pkl')\n",
        "          print('Actor Model loaded')\n",
        "      else:\n",
        "          actor = Actor(state_size, action_size).to(device)\n",
        "      if os.path.exists('model/critic.pkl'):\n",
        "          critic = torch.load('model/critic.pkl')\n",
        "          print('Critic Model loaded')\n",
        "      else:\n",
        "          critic = Critic(state_size, action_size).to(device)\n",
        "\n",
        "      trainIters(actor, critic, n_iters)\n"
      ],
      "metadata": {
        "colab": {
          "base_uri": "https://localhost:8080/",
          "height": 1000
        },
        "outputId": "a486e876-6f09-41b7-cc55-ff2c4a576bdb",
        "id": "BiX8wzgKl2jx"
      },
      "execution_count": null,
      "outputs": [
        {
          "output_type": "stream",
          "name": "stdout",
          "text": [
            "6\n",
            "240\n",
            "episode: 0, final portfolio value: 0.9797568446035346\n",
            "final action: [0.28844838 0.2935247  0.06501893 0.13770308 0.21489803 0.00040689]\n",
            "episode: 1, final portfolio value: 0.9893052180648394\n",
            "final action: [2.82311293e-01 2.84410956e-01 5.60431150e-02 2.39216181e-01\n",
            " 1.37876959e-01 1.41496611e-04]\n",
            "episode: 2, final portfolio value: 0.9923680991002687\n",
            "final action: [2.89344274e-01 2.91124337e-01 4.25098454e-02 2.82218598e-01\n",
            " 9.47310753e-02 7.18702195e-05]\n",
            "episode: 3, final portfolio value: 0.993170668495606\n",
            "final action: [2.93091882e-01 2.94778217e-01 3.75177549e-02 2.95173813e-01\n",
            " 7.93903818e-02 4.79525036e-05]\n",
            "episode: 4, final portfolio value: 0.9963147808672118\n",
            "final action: [2.90050683e-01 2.99403784e-01 2.11480556e-02 3.02754995e-01\n",
            " 8.66049297e-02 3.75525921e-05]\n",
            "episode: 5, final portfolio value: 1.0028451868163335\n",
            "final action: [2.70854295e-01 3.00399394e-01 1.17461905e-02 3.03339542e-01\n",
            " 1.13623128e-01 3.74509474e-05]\n",
            "episode: 6, final portfolio value: 1.008627866239088\n",
            "final action: [2.49722405e-01 3.02590894e-01 7.87486646e-03 3.05241244e-01\n",
            " 1.34534545e-01 3.60446995e-05]\n",
            "episode: 7, final portfolio value: 1.0172028643174773\n",
            "final action: [2.03529576e-01 3.09944376e-01 5.53474926e-03 3.11932727e-01\n",
            " 1.69018083e-01 4.04897637e-05]\n",
            "episode: 8, final portfolio value: 1.0247123421880997\n",
            "final action: [1.24250446e-01 3.30012948e-01 3.46715222e-03 3.31742824e-01\n",
            " 2.10478013e-01 4.86163453e-05]\n",
            "episode: 9, final portfolio value: 1.0262366475349587\n",
            "final action: [6.04829112e-02 3.46077907e-01 2.23302620e-03 3.47690213e-01\n",
            " 2.43460147e-01 5.57954001e-05]\n",
            "episode: 10, final portfolio value: 1.0256897561814977\n",
            "final action: [2.19967595e-02 3.50964974e-01 1.42314184e-03 3.52346699e-01\n",
            " 2.73206427e-01 6.19993627e-05]\n",
            "episode: 11, final portfolio value: 1.0255560345200123\n",
            "final action: [7.08803507e-03 3.47413549e-01 9.71017549e-04 3.48523269e-01\n",
            " 2.95936920e-01 6.72087281e-05]\n",
            "episode: 12, final portfolio value: 1.0256928979688387\n",
            "final action: [2.48554865e-03 3.43764249e-01 6.99822912e-04 3.44725284e-01\n",
            " 3.08253980e-01 7.11154080e-05]\n",
            "episode: 13, final portfolio value: 1.0257471636069961\n",
            "final action: [9.11254471e-04 3.40901366e-01 5.18734612e-04 3.41762504e-01\n",
            " 3.15831772e-01 7.43682448e-05]\n",
            "episode: 14, final portfolio value: 1.0257076680745039\n",
            "final action: [3.70587707e-04 3.38929193e-01 3.89342682e-04 3.39706826e-01\n",
            " 3.20525186e-01 7.88649962e-05]\n",
            "episode: 15, final portfolio value: 1.0256841359680988\n",
            "final action: [1.60589352e-04 3.37457158e-01 3.03336807e-04 3.38167585e-01\n",
            " 3.23829182e-01 8.21480881e-05]\n",
            "episode: 16, final portfolio value: 1.0256596622627607\n",
            "final action: [7.59609852e-05 3.36464266e-01 2.39922192e-04 3.37117950e-01\n",
            " 3.26015691e-01 8.62093174e-05]\n",
            "episode: 17, final portfolio value: 1.0256032443463772\n",
            "final action: [3.86669109e-05 3.35791217e-01 1.89710098e-04 3.36396174e-01\n",
            " 3.27493922e-01 9.03093795e-05]\n",
            "episode: 18, final portfolio value: 1.0255563655943014\n",
            "final action: [2.08001564e-05 3.35280178e-01 1.53739398e-04 3.35842071e-01\n",
            " 3.28609257e-01 9.39551448e-05]\n",
            "episode: 19, final portfolio value: 1.0255255051635284\n",
            "final action: [1.18171800e-05 3.34900042e-01 1.27286192e-04 3.35425665e-01\n",
            " 3.29438289e-01 9.69006418e-05]\n",
            "episode: 20, final portfolio value: 1.0255058548521052\n",
            "final action: [7.11263380e-06 3.34630501e-01 1.06659094e-04 3.35123282e-01\n",
            " 3.30032807e-01 9.96379767e-05]\n",
            "episode: 21, final portfolio value: 1.0254894383806572\n",
            "final action: [4.43554658e-06 3.34405962e-01 9.11587493e-05 3.34867778e-01\n",
            " 3.30528590e-01 1.02075698e-04]\n",
            "episode: 22, final portfolio value: 1.0254757273654231\n",
            "final action: [2.89525818e-06 3.34238264e-01 7.96820104e-05 3.34673855e-01\n",
            " 3.30903683e-01 1.01620405e-04]\n",
            "episode: 23, final portfolio value: 1.0254649102525535\n",
            "final action: [1.97610505e-06 3.34115056e-01 7.03086184e-05 3.34528831e-01\n",
            " 3.31182299e-01 1.01529374e-04]\n",
            "episode: 24, final portfolio value: 1.0254543395413547\n",
            "final action: [1.39172060e-06 3.34011640e-01 6.28734552e-05 3.34406342e-01\n",
            " 3.31416096e-01 1.01657794e-04]\n",
            "episode: 25, final portfolio value: 1.025445112447073\n",
            "final action: [1.00959224e-06 3.33925317e-01 5.68709092e-05 3.34303449e-01\n",
            " 3.31611286e-01 1.02066729e-04]\n",
            "episode: 26, final portfolio value: 1.0254380594345343\n",
            "final action: [7.56087570e-07 3.33857218e-01 5.18532984e-05 3.34220955e-01\n",
            " 3.31766377e-01 1.02840729e-04]\n",
            "episode: 27, final portfolio value: 1.0254331657925562\n",
            "final action: [5.80474552e-07 3.33799340e-01 4.77856524e-05 3.34150470e-01\n",
            " 3.31897952e-01 1.03872306e-04]\n",
            "episode: 28, final portfolio value: 1.0254283023527542\n",
            "final action: [4.55969475e-07 3.33750152e-01 4.44286952e-05 3.34090316e-01\n",
            " 3.32009517e-01 1.05130630e-04]\n",
            "episode: 29, final portfolio value: 1.0254240206847158\n",
            "final action: [3.65992603e-07 3.33708463e-01 4.15774845e-05 3.34038941e-01\n",
            " 3.32103846e-01 1.06806677e-04]\n",
            "episode: 30, final portfolio value: 1.0254197774614953\n",
            "final action: [2.98713997e-07 3.33671672e-01 3.92467825e-05 3.33993746e-01\n",
            " 3.32187367e-01 1.07669145e-04]\n",
            "episode: 31, final portfolio value: 1.0254161111674012\n",
            "final action: [2.48073150e-07 3.33639802e-01 3.72519099e-05 3.33954216e-01\n",
            " 3.32259775e-01 1.08706903e-04]\n",
            "episode: 32, final portfolio value: 1.0254139711024\n",
            "final action: [2.10306588e-07 3.33614456e-01 3.54440804e-05 3.33921986e-01\n",
            " 3.32317430e-01 1.10473269e-04]\n",
            "episode: 33, final portfolio value: 1.025412303751248\n",
            "final action: [1.80799800e-07 3.33591934e-01 3.38909518e-05 3.33893325e-01\n",
            " 3.32368400e-01 1.12268541e-04]\n",
            "episode: 34, final portfolio value: 1.0254111509647668\n",
            "final action: [1.57572755e-07 3.33572861e-01 3.24894205e-05 3.33868828e-01\n",
            " 3.32411732e-01 1.13932247e-04]\n",
            "episode: 35, final portfolio value: 1.0254100409227287\n",
            "final action: [1.38997240e-07 3.33556123e-01 3.12685413e-05 3.33847143e-01\n",
            " 3.32449801e-01 1.15525191e-04]\n",
            "episode: 36, final portfolio value: 1.0254092815703044\n",
            "final action: [1.24133136e-07 3.33541539e-01 3.01875804e-05 3.33827969e-01\n",
            " 3.32482871e-01 1.17309201e-04]\n",
            "episode: 37, final portfolio value: 1.0254082295756488\n",
            "final action: [1.11735826e-07 3.33527703e-01 2.92599388e-05 3.33809663e-01\n",
            " 3.32514484e-01 1.18778571e-04]\n",
            "episode: 38, final portfolio value: 1.0254072750020091\n",
            "final action: [1.01626841e-07 3.33516196e-01 2.84343775e-05 3.33794282e-01\n",
            " 3.32541005e-01 1.19980980e-04]\n",
            "episode: 39, final portfolio value: 1.025407448087523\n",
            "final action: [9.34222056e-08 3.33506535e-01 2.76446696e-05 3.33780895e-01\n",
            " 3.32562755e-01 1.22077545e-04]\n"
          ]
        },
        {
          "output_type": "display_data",
          "data": {
            "text/plain": [
              "<Figure size 432x288 with 1 Axes>"
            ],
            "image/png": "[encoded data removed]"
          },
          "metadata": {
            "needs_background": "light"
          }
        }
      ]
    },
    {
      "cell_type": "markdown",
      "source": [
        "## Performance evaluation"
      ],
      "metadata": {
        "id": "KC1Csyj9C2Gz"
      }
    },
    {
      "cell_type": "markdown",
      "source": [
        "possible benchmarks:\n",
        "\n",
        "\n",
        "*   Market cap\n",
        "*   GDP weights\n",
        "*   equal weight (regions, sectors)\n",
        "\n",
        "\n"
      ],
      "metadata": {
        "id": "eAg2mPgXU2o7"
      }
    },
    {
      "cell_type": "markdown",
      "source": [
        "possible metrics computed on the series of PF values (remember: reward = PF value)\n",
        "\n",
        "\n",
        "*   Sharpe ratio (excess return/std of the PF Value)\n",
        "*   Max drawdown (max decrease over the time frame considered)\n",
        "*   PF volatility (sqrt of the estimated PF matrix of the single stock returns)\n",
        "\n"
      ],
      "metadata": {
        "id": "hTh6dV2cVJXK"
      }
    },
    {
      "cell_type": "markdown",
      "source": [
        "sharpe ratio"
      ],
      "metadata": {
        "id": "vw3MQOOQ5xSU"
      }
    },
    {
      "cell_type": "code",
      "source": [
        "## sharpe ratio (daily returns)\n",
        "Sharpe_Ratio = portf_val[‘Daily Return’].mean() / portf_val[‘Daily Return’].std()\n",
        "\n",
        "## annulalization\n",
        "sharpe_ratio_pa = np.sqrt(252)*Sharpe_Ratio ## 252 trading days in a year\n",
        "\n"
      ],
      "metadata": {
        "id": "a-yxHw31C5f0"
      },
      "execution_count": null,
      "outputs": []
    },
    {
      "cell_type": "code",
      "source": [
        "# risk free rate\n",
        "v = etf_hist_df[\"CSHD.L\"]\n",
        "\n",
        "v"
      ],
      "metadata": {
        "colab": {
          "base_uri": "https://localhost:8080/"
        },
        "id": "y-wSawK5Tk1f",
        "outputId": "f6ccd75e-7e12-43c4-d240-af53c57b566f"
      },
      "execution_count": null,
      "outputs": [
        {
          "output_type": "execute_result",
          "data": {
            "text/plain": [
              "Date\n",
              "2018-01-02    126.599998\n",
              "2018-01-03    127.349998\n",
              "2018-01-04    127.849998\n",
              "2018-01-05    127.459999\n",
              "2018-01-08    126.879997\n",
              "                 ...    \n",
              "2022-12-23    109.415001\n",
              "2022-12-27    109.415001\n",
              "2022-12-28    109.474998\n",
              "2022-12-29    109.974998\n",
              "2022-12-30    110.144997\n",
              "Name: CSHD.L, Length: 1285, dtype: float64"
            ]
          },
          "metadata": {},
          "execution_count": 102
        }
      ]
    },
    {
      "cell_type": "code",
      "source": [
        "( ( (v.iloc[-1]-v.iloc[0])/v.iloc[0] )  )"
      ],
      "metadata": {
        "colab": {
          "base_uri": "https://localhost:8080/"
        },
        "id": "YR_ximh1VuiX",
        "outputId": "c9715ec7-e860-4d4b-c3e3-b28c37042de3"
      },
      "execution_count": null,
      "outputs": [
        {
          "output_type": "execute_result",
          "data": {
            "text/plain": [
              "-0.12997631934741558"
            ]
          },
          "metadata": {},
          "execution_count": 106
        }
      ]
    },
    {
      "cell_type": "code",
      "source": [
        "# sharpe ratio agent\n",
        "Sharpe_Ratio = (env.portfolio_value[-1]-1 - ( ( (v.iloc[-1]-v.iloc[0])/v.iloc[0] )  ) ) / np.std(env.portfolio_value)\n",
        "\n",
        "Sharpe_Ratio"
      ],
      "metadata": {
        "colab": {
          "base_uri": "https://localhost:8080/"
        },
        "id": "uip8S8m_RpXA",
        "outputId": "7bdab85b-d4d4-40c4-94a4-22814ed86e09"
      },
      "execution_count": null,
      "outputs": [
        {
          "output_type": "execute_result",
          "data": {
            "text/plain": [
              "2.7204708403843694"
            ]
          },
          "metadata": {},
          "execution_count": 108
        }
      ]
    },
    {
      "cell_type": "code",
      "source": [
        "# sharpe ratio equal weight bm\n",
        "Sharpe_Ratio_bm = (equalw_env.portfolio_value[-1]-1 - ( ( (v.iloc[-1]-v.iloc[0])/v.iloc[0] )  ) ) / np.std(equalw_env.portfolio_value)\n",
        "\n",
        "Sharpe_Ratio_bm"
      ],
      "metadata": {
        "colab": {
          "base_uri": "https://localhost:8080/"
        },
        "id": "CNeKcflFSi19",
        "outputId": "e2a43756-ff4a-427e-e4d1-a9d893cae33e"
      },
      "execution_count": null,
      "outputs": [
        {
          "output_type": "execute_result",
          "data": {
            "text/plain": [
              "2.1916435968453425"
            ]
          },
          "metadata": {},
          "execution_count": 110
        }
      ]
    },
    {
      "cell_type": "markdown",
      "source": [
        "annualized volatility"
      ],
      "metadata": {
        "id": "2M8j5t3V56kw"
      }
    },
    {
      "cell_type": "code",
      "source": [
        "env.profitslistnp.std([0:256])"
      ],
      "metadata": {
        "colab": {
          "base_uri": "https://localhost:8080/"
        },
        "id": "sOvvA0y0dB2r",
        "outputId": "c5f9d058-0a80-4337-c4e3-9001ffbad66c"
      },
      "execution_count": null,
      "outputs": [
        {
          "output_type": "execute_result",
          "data": {
            "text/plain": [
              "0.005310800992318869"
            ]
          },
          "metadata": {},
          "execution_count": 117
        }
      ]
    },
    {
      "cell_type": "code",
      "source": [
        "# vola annualized\n",
        "np.sqrt(252)*np.std(env.profitslist)"
      ],
      "metadata": {
        "colab": {
          "base_uri": "https://localhost:8080/"
        },
        "id": "_4C29Bebd5A7",
        "outputId": "93dec6a8-6c87-4a6c-b1f4-3e9209bf21ec"
      },
      "execution_count": null,
      "outputs": [
        {
          "output_type": "execute_result",
          "data": {
            "text/plain": [
              "0.1196361554786945"
            ]
          },
          "metadata": {},
          "execution_count": 122
        }
      ]
    },
    {
      "cell_type": "code",
      "source": [
        "# vola annulized bm\n",
        "np.sqrt(252)*np.std(equalw_env.profitslist)"
      ],
      "metadata": {
        "colab": {
          "base_uri": "https://localhost:8080/"
        },
        "id": "WdKDhwWse6lK",
        "outputId": "ea6e5b56-38cf-4344-822c-4a273ecbd3bf"
      },
      "execution_count": null,
      "outputs": [
        {
          "output_type": "execute_result",
          "data": {
            "text/plain": [
              "0.14124384439599227"
            ]
          },
          "metadata": {},
          "execution_count": 123
        }
      ]
    },
    {
      "cell_type": "markdown",
      "source": [
        "cumulative return over the 5 year period"
      ],
      "metadata": {
        "id": "mNC6dXf_5okT"
      }
    },
    {
      "cell_type": "code",
      "source": [
        "# cum ret.\n",
        "env.portfolio_value[-1]"
      ],
      "metadata": {
        "colab": {
          "base_uri": "https://localhost:8080/"
        },
        "id": "eUJCtuJafKpk",
        "outputId": "31e9998e-868f-4ef3-cfe4-94c260949a82"
      },
      "execution_count": null,
      "outputs": [
        {
          "output_type": "execute_result",
          "data": {
            "text/plain": [
              "1.1596164442769141"
            ]
          },
          "metadata": {},
          "execution_count": 127
        }
      ]
    },
    {
      "cell_type": "code",
      "source": [
        "# cum ret. bm\n",
        "equalw_env.portfolio_value[-1]"
      ],
      "metadata": {
        "colab": {
          "base_uri": "https://localhost:8080/"
        },
        "id": "lumXhU6VfviN",
        "outputId": "ec5b1705-34a4-4daa-b215-3d42b6b7535d"
      },
      "execution_count": null,
      "outputs": [
        {
          "output_type": "execute_result",
          "data": {
            "text/plain": [
              "1.0842290942751431"
            ]
          },
          "metadata": {},
          "execution_count": 128
        }
      ]
    },
    {
      "cell_type": "markdown",
      "source": [
        "mean return per annum"
      ],
      "metadata": {
        "id": "QtS2POGM5l57"
      }
    },
    {
      "cell_type": "code",
      "source": [
        "# mean ret. p.a. = [(daily return+1)^365 - 1]*100%\n",
        "\n",
        "mean_ret_pa = (np.mean(env.profitslist)**365) -1\n",
        "\n",
        "mean_ret_pa"
      ],
      "metadata": {
        "colab": {
          "base_uri": "https://localhost:8080/"
        },
        "id": "qyfuoihnifdM",
        "outputId": "9d570179-e987-4632-d2e6-facf9e74d435"
      },
      "execution_count": null,
      "outputs": [
        {
          "output_type": "execute_result",
          "data": {
            "text/plain": [
              "0.05533038934324064"
            ]
          },
          "metadata": {},
          "execution_count": 136
        }
      ]
    },
    {
      "cell_type": "code",
      "source": [
        "mean_ret_pa_bm = (np.mean(equalw_env.profitslist)**365) -1\n",
        "\n",
        "mean_ret_pa_bm"
      ],
      "metadata": {
        "colab": {
          "base_uri": "https://localhost:8080/"
        },
        "id": "QRUXuG8zifvm",
        "outputId": "20c4420d-c24c-475e-8730-6449344848e3"
      },
      "execution_count": null,
      "outputs": [
        {
          "output_type": "execute_result",
          "data": {
            "text/plain": [
              "0.039011935807406806"
            ]
          },
          "metadata": {},
          "execution_count": 137
        }
      ]
    }
  ]
}